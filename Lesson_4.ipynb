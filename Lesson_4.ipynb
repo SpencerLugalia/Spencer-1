{
  "nbformat": 4,
  "nbformat_minor": 0,
  "metadata": {
    "colab": {
      "provenance": [],
      "authorship_tag": "ABX9TyMsvpafW3BIJhWK5VSNUwx2",
      "include_colab_link": true
    },
    "kernelspec": {
      "name": "python3",
      "display_name": "Python 3"
    },
    "language_info": {
      "name": "python"
    }
  },
  "cells": [
    {
      "cell_type": "markdown",
      "metadata": {
        "id": "view-in-github",
        "colab_type": "text"
      },
      "source": [
        "<a href=\"https://colab.research.google.com/github/SpencerLugalia/Spencer-1/blob/main/Lesson_4.ipynb\" target=\"_parent\"><img src=\"https://colab.research.google.com/assets/colab-badge.svg\" alt=\"Open In Colab\"/></a>"
      ]
    },
    {
      "cell_type": "code",
      "execution_count": 1,
      "metadata": {
        "colab": {
          "base_uri": "https://localhost:8080/"
        },
        "id": "JOpuV7JWVpEJ",
        "outputId": "34829364-d343-47f5-8ddd-954d1df91988"
      },
      "outputs": [
        {
          "output_type": "stream",
          "name": "stdout",
          "text": [
            "0.14\n"
          ]
        }
      ],
      "source": [
        "#rounding to the prefered decimal point\n",
        "\n",
        "a=0.1356\n",
        "\n",
        "print(round(a,2))"
      ]
    },
    {
      "cell_type": "code",
      "source": [
        "print(f\"{a:.2f}\")"
      ],
      "metadata": {
        "colab": {
          "base_uri": "https://localhost:8080/"
        },
        "id": "yNPZjMsCWFJD",
        "outputId": "72f2b0a9-6fda-4e2a-f7db-a118232cf943"
      },
      "execution_count": 6,
      "outputs": [
        {
          "output_type": "stream",
          "name": "stdout",
          "text": [
            "0.14\n"
          ]
        }
      ]
    },
    {
      "cell_type": "code",
      "source": [
        "print(f\"{a:.3f}\")"
      ],
      "metadata": {
        "colab": {
          "base_uri": "https://localhost:8080/"
        },
        "id": "t9NNp-AkWQaT",
        "outputId": "1af9a9ca-52c0-48a0-deed-4d2c36d01d52"
      },
      "execution_count": 5,
      "outputs": [
        {
          "output_type": "stream",
          "name": "stdout",
          "text": [
            "0.136\n"
          ]
        }
      ]
    },
    {
      "cell_type": "code",
      "source": [
        "#replace\n",
        "\n",
        "b= \"Hello\"\n",
        "\n",
        "b.replace(\"H\",\"J\")"
      ],
      "metadata": {
        "colab": {
          "base_uri": "https://localhost:8080/",
          "height": 35
        },
        "id": "xM0C5S2HWoUa",
        "outputId": "04d401ed-5070-4686-fafb-02ae437db429"
      },
      "execution_count": 8,
      "outputs": [
        {
          "output_type": "execute_result",
          "data": {
            "text/plain": [
              "'Jello'"
            ],
            "application/vnd.google.colaboratory.intrinsic+json": {
              "type": "string"
            }
          },
          "metadata": {},
          "execution_count": 8
        }
      ]
    },
    {
      "cell_type": "code",
      "source": [
        "f= \"This is a strange strange world\"\n",
        "\n",
        "f.replace(\"strange\", \"beatiful\")"
      ],
      "metadata": {
        "colab": {
          "base_uri": "https://localhost:8080/",
          "height": 35
        },
        "id": "jkHh-zTGX3fu",
        "outputId": "085ba11d-de5b-43fd-998f-8628cc29838d"
      },
      "execution_count": 9,
      "outputs": [
        {
          "output_type": "execute_result",
          "data": {
            "text/plain": [
              "'This is a beatiful beatiful world'"
            ],
            "application/vnd.google.colaboratory.intrinsic+json": {
              "type": "string"
            }
          },
          "metadata": {},
          "execution_count": 9
        }
      ]
    },
    {
      "cell_type": "markdown",
      "source": [
        "List"
      ],
      "metadata": {
        "id": "3ITCkU3UakZA"
      }
    },
    {
      "cell_type": "code",
      "source": [
        "#enclosed square bracket[]\n",
        "#can be modified\n"
      ],
      "metadata": {
        "id": "mKzsnRQ4amQb"
      },
      "execution_count": 10,
      "outputs": []
    },
    {
      "cell_type": "code",
      "source": [
        "list1 = [1,2,3,4,5]\n",
        "list2 = [\"william\",'Maxwell','Dan',\"Sam\"]"
      ],
      "metadata": {
        "id": "FteX-MEQbiit"
      },
      "execution_count": 13,
      "outputs": []
    },
    {
      "cell_type": "code",
      "source": [
        "type(list1)\n"
      ],
      "metadata": {
        "colab": {
          "base_uri": "https://localhost:8080/"
        },
        "id": "xXCFFGrsb-jR",
        "outputId": "7044a87b-07cd-46fb-dd02-2a21860bf2f9"
      },
      "execution_count": 15,
      "outputs": [
        {
          "output_type": "execute_result",
          "data": {
            "text/plain": [
              "list"
            ]
          },
          "metadata": {},
          "execution_count": 15
        }
      ]
    },
    {
      "cell_type": "code",
      "source": [
        "list2[-2]"
      ],
      "metadata": {
        "colab": {
          "base_uri": "https://localhost:8080/",
          "height": 35
        },
        "id": "BoJGlVJ2cLeI",
        "outputId": "b9060594-af0f-4fbf-e8d2-be4b4ad898c6"
      },
      "execution_count": 18,
      "outputs": [
        {
          "output_type": "execute_result",
          "data": {
            "text/plain": [
              "'Dan'"
            ],
            "application/vnd.google.colaboratory.intrinsic+json": {
              "type": "string"
            }
          },
          "metadata": {},
          "execution_count": 18
        }
      ]
    },
    {
      "cell_type": "code",
      "source": [
        "f.replace(\"strange\",\"beatiful\"[:])"
      ],
      "metadata": {
        "colab": {
          "base_uri": "https://localhost:8080/",
          "height": 35
        },
        "id": "OzFdnEs3clzD",
        "outputId": "578336af-9694-443b-d38c-55e1ff1d1d21"
      },
      "execution_count": 23,
      "outputs": [
        {
          "output_type": "execute_result",
          "data": {
            "text/plain": [
              "'This is a beatiful beatiful world'"
            ],
            "application/vnd.google.colaboratory.intrinsic+json": {
              "type": "string"
            }
          },
          "metadata": {},
          "execution_count": 23
        }
      ]
    },
    {
      "cell_type": "code",
      "source": [
        "list2[1:3]"
      ],
      "metadata": {
        "colab": {
          "base_uri": "https://localhost:8080/"
        },
        "id": "-1Xlg6cHdIij",
        "outputId": "d18ea311-96d2-42da-c722-b6b34ad23aa4"
      },
      "execution_count": 25,
      "outputs": [
        {
          "output_type": "execute_result",
          "data": {
            "text/plain": [
              "['Maxwell', 'Dan']"
            ]
          },
          "metadata": {},
          "execution_count": 25
        }
      ]
    },
    {
      "cell_type": "code",
      "source": [
        "#on index first mentioned will be displayed the last wont on slicing"
      ],
      "metadata": {
        "id": "jFDNmDSPd_E2"
      },
      "execution_count": null,
      "outputs": []
    },
    {
      "cell_type": "code",
      "source": [
        "list2[0::2]"
      ],
      "metadata": {
        "colab": {
          "base_uri": "https://localhost:8080/"
        },
        "id": "-COfFymrel13",
        "outputId": "2622ee68-e234-4f2a-b522-927320ba3f7f"
      },
      "execution_count": 30,
      "outputs": [
        {
          "output_type": "execute_result",
          "data": {
            "text/plain": [
              "['william', 'Dan']"
            ]
          },
          "metadata": {},
          "execution_count": 30
        }
      ]
    },
    {
      "cell_type": "code",
      "source": [
        "list3 =[[\"william\",'Maxwell','Dan',\"Sam\"],[1,2,3,4,5]]"
      ],
      "metadata": {
        "id": "05zmiCHSievr"
      },
      "execution_count": 32,
      "outputs": []
    },
    {
      "cell_type": "code",
      "source": [
        "#list3[0] picks the first bit of the above list.\n",
        "#list3[1] picks the 2nd bit of the list ie"
      ],
      "metadata": {
        "id": "hPhvNmzaiqws"
      },
      "execution_count": 33,
      "outputs": []
    },
    {
      "cell_type": "code",
      "source": [
        "list3[0][1]"
      ],
      "metadata": {
        "colab": {
          "base_uri": "https://localhost:8080/",
          "height": 35
        },
        "id": "LvHqBV7DjQyT",
        "outputId": "8cad47d5-9652-4c76-d48e-ccb75f78d9e6"
      },
      "execution_count": 36,
      "outputs": [
        {
          "output_type": "execute_result",
          "data": {
            "text/plain": [
              "'Maxwell'"
            ],
            "application/vnd.google.colaboratory.intrinsic+json": {
              "type": "string"
            }
          },
          "metadata": {},
          "execution_count": 36
        }
      ]
    },
    {
      "cell_type": "code",
      "source": [
        "list3[1][2]"
      ],
      "metadata": {
        "colab": {
          "base_uri": "https://localhost:8080/"
        },
        "id": "5-GgIun-jV1n",
        "outputId": "4992b6b3-fc5d-4868-e085-737e93983ebc"
      },
      "execution_count": 37,
      "outputs": [
        {
          "output_type": "execute_result",
          "data": {
            "text/plain": [
              "3"
            ]
          },
          "metadata": {},
          "execution_count": 37
        }
      ]
    },
    {
      "cell_type": "code",
      "source": [
        "cars =['benz','vw','audi','hyundai','honda']\n",
        "cars [1] =\"volkswagen\"\n",
        "print(cars)"
      ],
      "metadata": {
        "colab": {
          "base_uri": "https://localhost:8080/"
        },
        "id": "7qq6n9ihjmFB",
        "outputId": "674c4a6f-ad61-466a-f0a6-f629f5952149"
      },
      "execution_count": 43,
      "outputs": [
        {
          "output_type": "stream",
          "name": "stdout",
          "text": [
            "['benz', 'volkswagen', 'audi', 'hyundai', 'honda']\n"
          ]
        }
      ]
    },
    {
      "cell_type": "code",
      "source": [
        "#emptly list\n",
        "\n",
        "list4 = []"
      ],
      "metadata": {
        "id": "2QWRsarSkvdW"
      },
      "execution_count": 44,
      "outputs": []
    },
    {
      "cell_type": "markdown",
      "source": [
        "Tuple"
      ],
      "metadata": {
        "id": "VzqQzVdfl19B"
      }
    },
    {
      "cell_type": "code",
      "source": [
        "#you cannot amend a tuple(immutable)"
      ],
      "metadata": {
        "id": "yH0pujzOl8Dd"
      },
      "execution_count": 45,
      "outputs": []
    },
    {
      "cell_type": "code",
      "source": [
        "fruits = (\"orange\", \"apple\",\"banana\",\"mango\")\n"
      ],
      "metadata": {
        "id": "1vgwMC2YmDUm"
      },
      "execution_count": 46,
      "outputs": []
    },
    {
      "cell_type": "code",
      "source": [
        "type(fruits)"
      ],
      "metadata": {
        "colab": {
          "base_uri": "https://localhost:8080/"
        },
        "id": "mgHUz5qGmwq4",
        "outputId": "f62af75d-6e9c-4e3c-a1fc-d0cfe68c4e29"
      },
      "execution_count": 47,
      "outputs": [
        {
          "output_type": "execute_result",
          "data": {
            "text/plain": [
              "tuple"
            ]
          },
          "metadata": {},
          "execution_count": 47
        }
      ]
    },
    {
      "cell_type": "code",
      "source": [
        "fruits[1]"
      ],
      "metadata": {
        "colab": {
          "base_uri": "https://localhost:8080/",
          "height": 35
        },
        "id": "DyyjueBhmyg2",
        "outputId": "e8e5e20c-1920-45dc-8715-4072cd1f2431"
      },
      "execution_count": 48,
      "outputs": [
        {
          "output_type": "execute_result",
          "data": {
            "text/plain": [
              "'apple'"
            ],
            "application/vnd.google.colaboratory.intrinsic+json": {
              "type": "string"
            }
          },
          "metadata": {},
          "execution_count": 48
        }
      ]
    },
    {
      "cell_type": "code",
      "source": [
        "#converting a tuple to a list\n",
        "fruits2 =list(fruits)"
      ],
      "metadata": {
        "id": "WYG0V1KRnbKK"
      },
      "execution_count": 53,
      "outputs": []
    },
    {
      "cell_type": "code",
      "source": [
        "type(fruits2)"
      ],
      "metadata": {
        "colab": {
          "base_uri": "https://localhost:8080/"
        },
        "id": "idlQjxW5ng8u",
        "outputId": "0256b3a6-b55f-4f40-97b0-1f4d0b8d8377"
      },
      "execution_count": 54,
      "outputs": [
        {
          "output_type": "execute_result",
          "data": {
            "text/plain": [
              "list"
            ]
          },
          "metadata": {},
          "execution_count": 54
        }
      ]
    },
    {
      "cell_type": "markdown",
      "source": [
        "Set"
      ],
      "metadata": {
        "id": "VOBrQDM-ofZF"
      }
    },
    {
      "cell_type": "code",
      "source": [
        "#does not alllow repetition\n",
        "\n",
        "#brings out unique data set"
      ],
      "metadata": {
        "id": "CFTykEgoohNh"
      },
      "execution_count": 55,
      "outputs": []
    },
    {
      "cell_type": "code",
      "source": [
        "t={'apple','pineapple','banana','mango','kiwi'}"
      ],
      "metadata": {
        "id": "FTUHXsk4om9n"
      },
      "execution_count": 56,
      "outputs": []
    },
    {
      "cell_type": "code",
      "source": [
        "type(t)"
      ],
      "metadata": {
        "colab": {
          "base_uri": "https://localhost:8080/"
        },
        "id": "Am61kXTqpAx5",
        "outputId": "b1231b3c-5217-4abe-aec2-b808098bbcaf"
      },
      "execution_count": 57,
      "outputs": [
        {
          "output_type": "execute_result",
          "data": {
            "text/plain": [
              "set"
            ]
          },
          "metadata": {},
          "execution_count": 57
        }
      ]
    },
    {
      "cell_type": "code",
      "source": [
        "y={'apple','berry'}"
      ],
      "metadata": {
        "id": "btAeA9e5pCQb"
      },
      "execution_count": 60,
      "outputs": []
    },
    {
      "cell_type": "code",
      "source": [
        "t.update(y)"
      ],
      "metadata": {
        "id": "QxTELG2aqBvd"
      },
      "execution_count": 65,
      "outputs": []
    },
    {
      "cell_type": "code",
      "source": [
        "print(t)"
      ],
      "metadata": {
        "colab": {
          "base_uri": "https://localhost:8080/"
        },
        "id": "2hLryPTiqIcs",
        "outputId": "554fdedb-05bc-476a-ea70-9ed7de7869d8"
      },
      "execution_count": 66,
      "outputs": [
        {
          "output_type": "stream",
          "name": "stdout",
          "text": [
            "{'berry', 'kiwi', 'banana', 'pineapple', 'apple', 'mango'}\n"
          ]
        }
      ]
    },
    {
      "cell_type": "code",
      "source": [
        "e={'1','2','great','luck'}\n",
        "g={'yet','pro'}"
      ],
      "metadata": {
        "id": "OeI7F1WYqUX6"
      },
      "execution_count": 67,
      "outputs": []
    },
    {
      "cell_type": "code",
      "source": [
        "e.update(g)"
      ],
      "metadata": {
        "id": "VK11RFsirMhN"
      },
      "execution_count": 68,
      "outputs": []
    },
    {
      "cell_type": "code",
      "source": [
        "print(e)"
      ],
      "metadata": {
        "colab": {
          "base_uri": "https://localhost:8080/"
        },
        "id": "nfB13t-mrPRD",
        "outputId": "8a56bfb9-f376-46bf-d25b-6e3ff234b529"
      },
      "execution_count": 69,
      "outputs": [
        {
          "output_type": "stream",
          "name": "stdout",
          "text": [
            "{'luck', '2', '1', 'great', 'pro', 'yet'}\n"
          ]
        }
      ]
    },
    {
      "cell_type": "code",
      "source": [],
      "metadata": {
        "id": "rCJoYUVarQ8k"
      },
      "execution_count": null,
      "outputs": []
    }
  ]
}