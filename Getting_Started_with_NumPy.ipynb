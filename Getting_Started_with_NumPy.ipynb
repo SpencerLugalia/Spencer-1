{
  "cells": [
    {
      "cell_type": "markdown",
      "metadata": {
        "id": "view-in-github",
        "colab_type": "text"
      },
      "source": [
        "<a href=\"https://colab.research.google.com/github/SpencerLugalia/Spencer-1/blob/main/Getting_Started_with_NumPy.ipynb\" target=\"_parent\"><img src=\"https://colab.research.google.com/assets/colab-badge.svg\" alt=\"Open In Colab\"/></a>"
      ]
    },
    {
      "cell_type": "markdown",
      "metadata": {
        "id": "-iQqBPthcDJo"
      },
      "source": [
        "# Getting Started with NumPy\n",
        "\n",
        "## Introduction\n",
        "\n",
        "NumPy is one of the main libraries for performing scientific computing in Python. Using NumPy, you can create high-performance multi-dimensional arrays, and several tools to work with these arrays.\n",
        "\n",
        "A NumPy array can store a grid of values. All the values must be of the same type. NumPy arrays are n-dimensional, and the number of dimensions is denoted by the *rank* of the NumPy array. The shape of an array is a tuple of integers which holds the size of the array along each of the dimensions.\n",
        "\n",
        "For more information on NumPy, refer to http://www.numpy.org/.\n",
        "\n",
        "\n",
        "## Objectives\n",
        "\n",
        "You will be able to:\n",
        "  \n",
        "- Use broadcasting to perform a math operation on an entire numpy array    \n",
        "- Perform vector and matrix operations with numpy\n",
        "- Access the shape of a numpy array    \n",
        "- Use indexing with numpy arrays    \n",
        "\n",
        "\n",
        "\n",
        "\n",
        "## NumPy array creation and basic operations\n",
        "\n",
        "First, remember that it is customary to import NumPy as `np`."
      ]
    },
    {
      "cell_type": "code",
      "execution_count": 1,
      "metadata": {
        "id": "VSmn9Xc-cDJq"
      },
      "outputs": [],
      "source": [
        "import numpy as np"
      ]
    },
    {
      "cell_type": "markdown",
      "metadata": {
        "id": "KN_CtiOdcDJr"
      },
      "source": [
        "One easy way to create a numpy array is from a Python list. The two are similar in a number of manners but NumPy is optimized in a number of ways for performing mathematical operations, including having a number of built-in methods that will be extraordinarily useful."
      ]
    },
    {
      "cell_type": "code",
      "execution_count": 2,
      "metadata": {
        "id": "jB7592-mcDJr",
        "outputId": "0ae23741-ff79-49b0-b53f-cf8782090e72",
        "colab": {
          "base_uri": "https://localhost:8080/"
        }
      },
      "outputs": [
        {
          "output_type": "stream",
          "name": "stdout",
          "text": [
            "<class 'numpy.ndarray'>\n"
          ]
        }
      ],
      "source": [
        "x = np.array([1, 2, 3])\n",
        "print(type(x))"
      ]
    },
    {
      "cell_type": "markdown",
      "metadata": {
        "id": "hKhBvW1McDJs"
      },
      "source": [
        "## Broadcasting Mathematical Operations\n",
        "\n",
        "Notice right off the bat how basic mathematical operations will be applied elementwise in a NumPy array versus a literal interpretation with a Python list:"
      ]
    },
    {
      "cell_type": "code",
      "execution_count": 3,
      "metadata": {
        "id": "U--c8B39cDJs",
        "outputId": "c3bd2fc6-911b-4d85-dbf0-e8db1582e06e",
        "colab": {
          "base_uri": "https://localhost:8080/"
        }
      },
      "outputs": [
        {
          "output_type": "execute_result",
          "data": {
            "text/plain": [
              "array([3, 6, 9])"
            ]
          },
          "metadata": {},
          "execution_count": 3
        }
      ],
      "source": [
        "# Multiplies each element by 3\n",
        "x * 3"
      ]
    },
    {
      "cell_type": "code",
      "execution_count": 4,
      "metadata": {
        "id": "DMI8NLgUcDJs",
        "outputId": "745525ed-ebc2-4e5b-977c-ea9adf028608",
        "colab": {
          "base_uri": "https://localhost:8080/"
        }
      },
      "outputs": [
        {
          "output_type": "execute_result",
          "data": {
            "text/plain": [
              "[1, 2, 3, 1, 2, 3, 1, 2, 3]"
            ]
          },
          "metadata": {},
          "execution_count": 4
        }
      ],
      "source": [
        "# Returns the list 3 times\n",
        "[1, 2, 3] * 3"
      ]
    },
    {
      "cell_type": "code",
      "execution_count": 5,
      "metadata": {
        "id": "1TMAM01OcDJs",
        "outputId": "cee5b797-0f34-4fe4-fd99-6eebf01c85cd",
        "colab": {
          "base_uri": "https://localhost:8080/"
        }
      },
      "outputs": [
        {
          "output_type": "execute_result",
          "data": {
            "text/plain": [
              "array([3, 4, 5])"
            ]
          },
          "metadata": {},
          "execution_count": 5
        }
      ],
      "source": [
        "# Adds two to each element\n",
        "x + 2"
      ]
    },
    {
      "cell_type": "code",
      "execution_count": 6,
      "metadata": {
        "id": "FysyURPPcDJs",
        "outputId": "c69cf548-11b6-4cd3-afe3-f590fd2fc53e",
        "colab": {
          "base_uri": "https://localhost:8080/",
          "height": 159
        }
      },
      "outputs": [
        {
          "output_type": "error",
          "ename": "TypeError",
          "evalue": "can only concatenate list (not \"int\") to list",
          "traceback": [
            "\u001b[0;31m---------------------------------------------------------------------------\u001b[0m",
            "\u001b[0;31mTypeError\u001b[0m                                 Traceback (most recent call last)",
            "\u001b[0;32m<ipython-input-6-5759e168010e>\u001b[0m in \u001b[0;36m<cell line: 2>\u001b[0;34m()\u001b[0m\n\u001b[1;32m      1\u001b[0m \u001b[0;31m# Returns an error; different data types\u001b[0m\u001b[0;34m\u001b[0m\u001b[0;34m\u001b[0m\u001b[0m\n\u001b[0;32m----> 2\u001b[0;31m \u001b[0;34m[\u001b[0m\u001b[0;36m1\u001b[0m\u001b[0;34m,\u001b[0m \u001b[0;36m2\u001b[0m\u001b[0;34m,\u001b[0m \u001b[0;36m3\u001b[0m\u001b[0;34m]\u001b[0m \u001b[0;34m+\u001b[0m \u001b[0;36m2\u001b[0m\u001b[0;34m\u001b[0m\u001b[0;34m\u001b[0m\u001b[0m\n\u001b[0m",
            "\u001b[0;31mTypeError\u001b[0m: can only concatenate list (not \"int\") to list"
          ]
        }
      ],
      "source": [
        "# Returns an error; different data types\n",
        "[1, 2, 3] + 2"
      ]
    },
    {
      "cell_type": "markdown",
      "metadata": {
        "id": "JQvcSU8OcDJt"
      },
      "source": [
        "## Even more math!"
      ]
    },
    {
      "cell_type": "markdown",
      "metadata": {
        "id": "DlCW7UH2cDJt"
      },
      "source": [
        "### Scalar Math\n",
        "\n",
        "|   |   |\n",
        "|---|---|\n",
        "|`np.add(arr,1)` | Add 1 to each array element  |\n",
        "|`np.subtract(arr,2)`  | Subtract 2 from each array element  |\n",
        "|`np.multiply(arr,3)`  | Multiply each array element by 3 |\n",
        "|`np.divide(arr,4)`    | Divide each array element by 4 (returns `np.nan` for division by zero) |\n",
        "|`np.power(arr,5)`     | Raise each array element to the 5th power |\n",
        "\n",
        "\n",
        "\n",
        "\n",
        "### Vector Math\n",
        "\n",
        "|   |   |\n",
        "|---|---|\n",
        "|`np.add(arr1,arr2)` | Elementwise add arr2 to arr1  |\n",
        "|`np.subtract(arr1,arr2)`  | Elementwise subtract arr2 from arr1  |\n",
        "|`np.multiply(arr1,arr2)`  | Elementwise multiply arr1 by arr2 |\n",
        "|`np.divide(arr1,arr2)`    | Elementwise divide arr1 by arr2 |\n",
        "|`np.power(arr1,arr2)`     | Elementwise raise arr1 raised to the power of arr2 |\n",
        "|`np.array_equal(arr1,arr2)`| Returns True if the arrays have the same elements and shape |\n",
        "|`np.sqrt(arr)`            |  Square root of each element in the array                    |\n",
        "|`np.sin(arr)`             |  Sine of each element in the array                           |\n",
        "|`np.log(arr)`             |  Natural log of each element in the array                    |\n",
        "|`np.abs(arr)`             |  Absolute value of each element in the array                 |\n",
        "|`np.ceil(arr)`            |  Rounds up to the nearest int                                |\n",
        "|`np.floor(arr)`           |  Rounds down to the nearest int                              |\n",
        "|`np.round(arr)`           |  Rounds to the nearest int                                   |"
      ]
    },
    {
      "cell_type": "markdown",
      "metadata": {
        "id": "oA-ySe3dcDJt"
      },
      "source": [
        "### Here's a few more examples from the list above"
      ]
    },
    {
      "cell_type": "code",
      "execution_count": 7,
      "metadata": {
        "id": "8MGsULUccDJt",
        "outputId": "2a46d590-71a6-4aaf-af91-4bf917dc2fac",
        "colab": {
          "base_uri": "https://localhost:8080/"
        }
      },
      "outputs": [
        {
          "output_type": "execute_result",
          "data": {
            "text/plain": [
              "[1, 2, 3, 4, 5, 6]"
            ]
          },
          "metadata": {},
          "execution_count": 7
        }
      ],
      "source": [
        "# Adding raw lists is just appending\n",
        "[1, 2, 3] + [4, 5, 6]"
      ]
    },
    {
      "cell_type": "code",
      "execution_count": 8,
      "metadata": {
        "id": "50s3cjwccDJt",
        "outputId": "f2a51294-727f-43ce-d9d0-c9977db77c21",
        "colab": {
          "base_uri": "https://localhost:8080/"
        }
      },
      "outputs": [
        {
          "output_type": "execute_result",
          "data": {
            "text/plain": [
              "array([5, 7, 9])"
            ]
          },
          "metadata": {},
          "execution_count": 8
        }
      ],
      "source": [
        "# Adds elements\n",
        "np.array([1, 2, 3]) + np.array([4, 5, 6])"
      ]
    },
    {
      "cell_type": "code",
      "execution_count": null,
      "metadata": {
        "id": "EEOi3_uJcDJt",
        "outputId": "96d5b629-828f-4886-ba38-cdaf9a8d4f3f"
      },
      "outputs": [
        {
          "data": {
            "text/plain": [
              "array([5, 7, 9])"
            ]
          },
          "execution_count": 9,
          "metadata": {},
          "output_type": "execute_result"
        }
      ],
      "source": [
        "# Same as above with built-in method\n",
        "x = np.array([1, 2, 3])\n",
        "y = np.array([4, 5, 6])\n",
        "np.add(x, y)"
      ]
    },
    {
      "cell_type": "markdown",
      "metadata": {
        "id": "EpX7AE60cDJt"
      },
      "source": [
        "## Multidimensional Arrays\n",
        "NumPy arrays are also very useful for storing multidimensional data such as matrices. Notice how NumPy tries to nicely align the elements."
      ]
    },
    {
      "cell_type": "code",
      "execution_count": 9,
      "metadata": {
        "id": "vGbD_Ol-cDJu",
        "outputId": "63949a29-29f0-4ee4-cb7d-7317538bc3e3",
        "colab": {
          "base_uri": "https://localhost:8080/"
        }
      },
      "outputs": [
        {
          "output_type": "stream",
          "name": "stdout",
          "text": [
            "<class 'list'>\n"
          ]
        },
        {
          "output_type": "execute_result",
          "data": {
            "text/plain": [
              "[[1, 2], [3, 4]]"
            ]
          },
          "metadata": {},
          "execution_count": 9
        }
      ],
      "source": [
        "# An ordinary nested list\n",
        "y = [[1, 2], [3, 4]]\n",
        "print(type(y))\n",
        "y"
      ]
    },
    {
      "cell_type": "code",
      "execution_count": 10,
      "metadata": {
        "id": "1joVG_97cDJu",
        "outputId": "b9162c73-c0b1-42e6-ec5f-dd37fa2f4187",
        "colab": {
          "base_uri": "https://localhost:8080/"
        }
      },
      "outputs": [
        {
          "output_type": "stream",
          "name": "stdout",
          "text": [
            "<class 'numpy.ndarray'>\n"
          ]
        },
        {
          "output_type": "execute_result",
          "data": {
            "text/plain": [
              "array([[1, 2],\n",
              "       [3, 4]])"
            ]
          },
          "metadata": {},
          "execution_count": 10
        }
      ],
      "source": [
        "# Reformatted as a NumPy array\n",
        "y = np.array([[1, 2], [3, 4]])\n",
        "print(type(y))\n",
        "y"
      ]
    },
    {
      "cell_type": "markdown",
      "metadata": {
        "id": "AmDRihVfcDJu"
      },
      "source": [
        "## The Shape Attribute\n",
        "One of the most important attributes to understand with this is the shape of a NumPy array."
      ]
    },
    {
      "cell_type": "code",
      "execution_count": 11,
      "metadata": {
        "id": "jtGFidPqcDJu",
        "outputId": "73e0b725-b298-4409-f87c-e7f497d0ac6c",
        "colab": {
          "base_uri": "https://localhost:8080/"
        }
      },
      "outputs": [
        {
          "output_type": "execute_result",
          "data": {
            "text/plain": [
              "(2, 2)"
            ]
          },
          "metadata": {},
          "execution_count": 11
        }
      ],
      "source": [
        "y.shape"
      ]
    },
    {
      "cell_type": "code",
      "execution_count": 12,
      "metadata": {
        "id": "1KFPg5QEcDJu",
        "outputId": "1754dc02-e5ca-4b2a-9e72-36c2cfc7d005",
        "colab": {
          "base_uri": "https://localhost:8080/"
        }
      },
      "outputs": [
        {
          "output_type": "stream",
          "name": "stdout",
          "text": [
            "(2, 3)\n"
          ]
        },
        {
          "output_type": "execute_result",
          "data": {
            "text/plain": [
              "array([[1, 2, 3],\n",
              "       [4, 5, 6]])"
            ]
          },
          "metadata": {},
          "execution_count": 12
        }
      ],
      "source": [
        "y = np.array([[1, 2, 3],[4, 5, 6]])\n",
        "print(y.shape)\n",
        "y"
      ]
    },
    {
      "cell_type": "code",
      "execution_count": 13,
      "metadata": {
        "id": "Nqt9PkJtcDJu",
        "outputId": "ab38ec24-67e7-4601-fe9c-cee485cd6462",
        "colab": {
          "base_uri": "https://localhost:8080/"
        }
      },
      "outputs": [
        {
          "output_type": "stream",
          "name": "stdout",
          "text": [
            "(3, 2)\n"
          ]
        },
        {
          "output_type": "execute_result",
          "data": {
            "text/plain": [
              "array([[1, 2],\n",
              "       [3, 4],\n",
              "       [5, 6]])"
            ]
          },
          "metadata": {},
          "execution_count": 13
        }
      ],
      "source": [
        "y = np.array([[1, 2],[3, 4],[5, 6]])\n",
        "print(y.shape)\n",
        "y"
      ]
    },
    {
      "cell_type": "markdown",
      "metadata": {
        "id": "sxhkFufncDJu"
      },
      "source": [
        "### We can also have higher dimensional data such as working with 3 dimensional data\n",
        "<img src=\"https://curriculum-content.s3.amazonaws.com/data-science/images/Image_195_3D array.png\" width=500>"
      ]
    },
    {
      "cell_type": "code",
      "execution_count": 14,
      "metadata": {
        "id": "S6ZCwnOicDJu",
        "outputId": "a9fc94c2-615e-41ad-b5dd-667da2c5da5c",
        "colab": {
          "base_uri": "https://localhost:8080/"
        }
      },
      "outputs": [
        {
          "output_type": "stream",
          "name": "stdout",
          "text": [
            "(2, 3, 2)\n"
          ]
        },
        {
          "output_type": "execute_result",
          "data": {
            "text/plain": [
              "array([[[1, 2],\n",
              "        [3, 4],\n",
              "        [5, 6]],\n",
              "\n",
              "       [[1, 2],\n",
              "        [3, 4],\n",
              "        [5, 6]]])"
            ]
          },
          "metadata": {},
          "execution_count": 14
        }
      ],
      "source": [
        "y = np.array([[[1, 2],[3, 4],[5, 6]],\n",
        "             [[1, 2],[3, 4],[5, 6]]\n",
        "             ])\n",
        "print(y.shape)\n",
        "y"
      ]
    },
    {
      "cell_type": "markdown",
      "metadata": {
        "id": "1x16Nvd6cDJu"
      },
      "source": [
        "## Built-in Methods for Creating Arrays\n",
        "NumPy also has several built-in methods for creating arrays that are useful in practice. These methods are particularly useful:\n",
        "* `np.zeros(shape)`\n",
        "* `np.ones(shape)`\n",
        "* `np.full(shape, fill)`"
      ]
    },
    {
      "cell_type": "code",
      "execution_count": 15,
      "metadata": {
        "id": "cSwO-OagcDJu",
        "outputId": "d74618cc-0866-49be-eb7a-8b40f5b5e6cf",
        "colab": {
          "base_uri": "https://localhost:8080/"
        }
      },
      "outputs": [
        {
          "output_type": "execute_result",
          "data": {
            "text/plain": [
              "array([0., 0., 0., 0., 0.])"
            ]
          },
          "metadata": {},
          "execution_count": 15
        }
      ],
      "source": [
        "# One dimensional; 5 elements\n",
        "np.zeros(5)"
      ]
    },
    {
      "cell_type": "code",
      "execution_count": 16,
      "metadata": {
        "id": "-Jah_eaDcDJv",
        "outputId": "ee054568-9f06-404a-dc49-11cd1b9d1fa6",
        "colab": {
          "base_uri": "https://localhost:8080/"
        }
      },
      "outputs": [
        {
          "output_type": "execute_result",
          "data": {
            "text/plain": [
              "array([[0., 0.],\n",
              "       [0., 0.]])"
            ]
          },
          "metadata": {},
          "execution_count": 16
        }
      ],
      "source": [
        "# Two dimensional; 2x2 matrix\n",
        "np.zeros([2, 2])"
      ]
    },
    {
      "cell_type": "code",
      "execution_count": 17,
      "metadata": {
        "id": "-S7rxrshcDJv",
        "outputId": "29f98794-7298-4f09-92da-0d2338739aea",
        "colab": {
          "base_uri": "https://localhost:8080/"
        }
      },
      "outputs": [
        {
          "output_type": "execute_result",
          "data": {
            "text/plain": [
              "array([[0., 0., 0., 0., 0.],\n",
              "       [0., 0., 0., 0., 0.],\n",
              "       [0., 0., 0., 0., 0.]])"
            ]
          },
          "metadata": {},
          "execution_count": 17
        }
      ],
      "source": [
        "# 2 dimensional;  3x5 matrix\n",
        "np.zeros([3, 5])"
      ]
    },
    {
      "cell_type": "code",
      "execution_count": 18,
      "metadata": {
        "id": "bCuLGKiKcDJv",
        "outputId": "3019e612-3bb0-4796-8ba1-136ae581870d",
        "colab": {
          "base_uri": "https://localhost:8080/"
        }
      },
      "outputs": [
        {
          "output_type": "execute_result",
          "data": {
            "text/plain": [
              "array([[[0., 0., 0., 0., 0.],\n",
              "        [0., 0., 0., 0., 0.],\n",
              "        [0., 0., 0., 0., 0.],\n",
              "        [0., 0., 0., 0., 0.]],\n",
              "\n",
              "       [[0., 0., 0., 0., 0.],\n",
              "        [0., 0., 0., 0., 0.],\n",
              "        [0., 0., 0., 0., 0.],\n",
              "        [0., 0., 0., 0., 0.]],\n",
              "\n",
              "       [[0., 0., 0., 0., 0.],\n",
              "        [0., 0., 0., 0., 0.],\n",
              "        [0., 0., 0., 0., 0.],\n",
              "        [0., 0., 0., 0., 0.]]])"
            ]
          },
          "metadata": {},
          "execution_count": 18
        }
      ],
      "source": [
        "# 3 dimensional; 3 4x5 matrices\n",
        "np.zeros([3, 4, 5])"
      ]
    },
    {
      "cell_type": "markdown",
      "metadata": {
        "id": "Waw-nOkucDJv"
      },
      "source": [
        "### Similarly the `np.ones()` method returns an array of ones"
      ]
    },
    {
      "cell_type": "code",
      "execution_count": 19,
      "metadata": {
        "id": "Hxqd6KE2cDJv",
        "outputId": "2cb196a6-a308-4f5b-e089-6ec1ec29fd79",
        "colab": {
          "base_uri": "https://localhost:8080/"
        }
      },
      "outputs": [
        {
          "output_type": "execute_result",
          "data": {
            "text/plain": [
              "array([1., 1., 1., 1., 1.])"
            ]
          },
          "metadata": {},
          "execution_count": 19
        }
      ],
      "source": [
        "np.ones(5)"
      ]
    },
    {
      "cell_type": "code",
      "execution_count": 20,
      "metadata": {
        "id": "oLKBu4_0cDJv",
        "outputId": "1ebf57c5-bd5d-4c1d-92b1-80e44fabe56f",
        "colab": {
          "base_uri": "https://localhost:8080/"
        }
      },
      "outputs": [
        {
          "output_type": "execute_result",
          "data": {
            "text/plain": [
              "array([[1., 1., 1., 1.],\n",
              "       [1., 1., 1., 1.],\n",
              "       [1., 1., 1., 1.]])"
            ]
          },
          "metadata": {},
          "execution_count": 20
        }
      ],
      "source": [
        "np.ones([3, 4])"
      ]
    },
    {
      "cell_type": "markdown",
      "metadata": {
        "id": "F1X3HyjMcDJv"
      },
      "source": [
        "### The `np.full()` method allows you to create an array of arbitrary values"
      ]
    },
    {
      "cell_type": "code",
      "execution_count": 21,
      "metadata": {
        "id": "XsLKYdBfcDJv",
        "outputId": "88d2e8b9-808e-4afe-ac2f-57750b7b171b",
        "colab": {
          "base_uri": "https://localhost:8080/"
        }
      },
      "outputs": [
        {
          "output_type": "execute_result",
          "data": {
            "text/plain": [
              "array([3, 3, 3, 3, 3])"
            ]
          },
          "metadata": {},
          "execution_count": 21
        }
      ],
      "source": [
        "# Create a 1d array with 5 elements, all of which are 3\n",
        "np.full(5, 3)"
      ]
    },
    {
      "cell_type": "code",
      "execution_count": 22,
      "metadata": {
        "id": "T0stlKpicDJv",
        "outputId": "cff85acb-fe31-4306-f615-4157acc8f052",
        "colab": {
          "base_uri": "https://localhost:8080/"
        }
      },
      "outputs": [
        {
          "output_type": "execute_result",
          "data": {
            "text/plain": [
              "array([0, 1, 2, 3, 4])"
            ]
          },
          "metadata": {},
          "execution_count": 22
        }
      ],
      "source": [
        "# Create a 1d array with 5 elements, filling them with the values 0 to 4\n",
        "np.full(5, range(5))"
      ]
    },
    {
      "cell_type": "code",
      "execution_count": 23,
      "metadata": {
        "id": "hCrAcOF-cDJv",
        "outputId": "75f2e31f-7f9d-451b-cc45-4531f8f2c108",
        "colab": {
          "base_uri": "https://localhost:8080/",
          "height": 280
        }
      },
      "outputs": [
        {
          "output_type": "error",
          "ename": "ValueError",
          "evalue": "could not broadcast input array from shape (10,) into shape (2,5)",
          "traceback": [
            "\u001b[0;31m---------------------------------------------------------------------------\u001b[0m",
            "\u001b[0;31mValueError\u001b[0m                                Traceback (most recent call last)",
            "\u001b[0;32m<ipython-input-23-ea647ac42aad>\u001b[0m in \u001b[0;36m<cell line: 2>\u001b[0;34m()\u001b[0m\n\u001b[1;32m      1\u001b[0m \u001b[0;31m# Sadly this trick won't work for multidimensional arrays\u001b[0m\u001b[0;34m\u001b[0m\u001b[0;34m\u001b[0m\u001b[0m\n\u001b[0;32m----> 2\u001b[0;31m \u001b[0mnp\u001b[0m\u001b[0;34m.\u001b[0m\u001b[0mfull\u001b[0m\u001b[0;34m(\u001b[0m\u001b[0;34m[\u001b[0m\u001b[0;36m2\u001b[0m\u001b[0;34m,\u001b[0m \u001b[0;36m5\u001b[0m\u001b[0;34m]\u001b[0m\u001b[0;34m,\u001b[0m \u001b[0mrange\u001b[0m\u001b[0;34m(\u001b[0m\u001b[0;36m10\u001b[0m\u001b[0;34m)\u001b[0m\u001b[0;34m)\u001b[0m\u001b[0;34m\u001b[0m\u001b[0;34m\u001b[0m\u001b[0m\n\u001b[0m",
            "\u001b[0;32m/usr/local/lib/python3.10/dist-packages/numpy/core/numeric.py\u001b[0m in \u001b[0;36mfull\u001b[0;34m(shape, fill_value, dtype, order, like)\u001b[0m\n\u001b[1;32m    328\u001b[0m         \u001b[0mdtype\u001b[0m \u001b[0;34m=\u001b[0m \u001b[0mfill_value\u001b[0m\u001b[0;34m.\u001b[0m\u001b[0mdtype\u001b[0m\u001b[0;34m\u001b[0m\u001b[0;34m\u001b[0m\u001b[0m\n\u001b[1;32m    329\u001b[0m     \u001b[0ma\u001b[0m \u001b[0;34m=\u001b[0m \u001b[0mempty\u001b[0m\u001b[0;34m(\u001b[0m\u001b[0mshape\u001b[0m\u001b[0;34m,\u001b[0m \u001b[0mdtype\u001b[0m\u001b[0;34m,\u001b[0m \u001b[0morder\u001b[0m\u001b[0;34m)\u001b[0m\u001b[0;34m\u001b[0m\u001b[0;34m\u001b[0m\u001b[0m\n\u001b[0;32m--> 330\u001b[0;31m     \u001b[0mmultiarray\u001b[0m\u001b[0;34m.\u001b[0m\u001b[0mcopyto\u001b[0m\u001b[0;34m(\u001b[0m\u001b[0ma\u001b[0m\u001b[0;34m,\u001b[0m \u001b[0mfill_value\u001b[0m\u001b[0;34m,\u001b[0m \u001b[0mcasting\u001b[0m\u001b[0;34m=\u001b[0m\u001b[0;34m'unsafe'\u001b[0m\u001b[0;34m)\u001b[0m\u001b[0;34m\u001b[0m\u001b[0;34m\u001b[0m\u001b[0m\n\u001b[0m\u001b[1;32m    331\u001b[0m     \u001b[0;32mreturn\u001b[0m \u001b[0ma\u001b[0m\u001b[0;34m\u001b[0m\u001b[0;34m\u001b[0m\u001b[0m\n\u001b[1;32m    332\u001b[0m \u001b[0;34m\u001b[0m\u001b[0m\n",
            "\u001b[0;31mValueError\u001b[0m: could not broadcast input array from shape (10,) into shape (2,5)"
          ]
        }
      ],
      "source": [
        "# Sadly this trick won't work for multidimensional arrays\n",
        "np.full([2, 5], range(10))"
      ]
    },
    {
      "cell_type": "code",
      "execution_count": 24,
      "metadata": {
        "id": "aoAMsPLFcDJv",
        "outputId": "a99a85a7-d2d4-4585-9f36-06d01b8d4c7e",
        "colab": {
          "base_uri": "https://localhost:8080/"
        }
      },
      "outputs": [
        {
          "output_type": "execute_result",
          "data": {
            "text/plain": [
              "array([[3.14159265, 3.14159265, 3.14159265, 3.14159265, 3.14159265],\n",
              "       [3.14159265, 3.14159265, 3.14159265, 3.14159265, 3.14159265]])"
            ]
          },
          "metadata": {},
          "execution_count": 24
        }
      ],
      "source": [
        "# NumPy also has useful built-in mathematical numbers\n",
        "np.full([2, 5], np.pi)"
      ]
    },
    {
      "cell_type": "markdown",
      "metadata": {
        "id": "IPg608qvcDJv"
      },
      "source": [
        "## Numpy array subsetting"
      ]
    },
    {
      "cell_type": "markdown",
      "metadata": {
        "id": "mWV_9LuicDJv"
      },
      "source": [
        "You can subset NumPy arrays very similarly to list slicing in python."
      ]
    },
    {
      "cell_type": "code",
      "execution_count": 25,
      "metadata": {
        "id": "7uZFdafJcDJ5",
        "outputId": "f2726653-c29d-4558-95b1-549cca7ff6bc",
        "colab": {
          "base_uri": "https://localhost:8080/"
        }
      },
      "outputs": [
        {
          "output_type": "stream",
          "name": "stdout",
          "text": [
            "(4, 3)\n"
          ]
        },
        {
          "output_type": "execute_result",
          "data": {
            "text/plain": [
              "array([[ 1,  2,  3],\n",
              "       [ 4,  5,  6],\n",
              "       [ 7,  8,  9],\n",
              "       [10, 11, 12]])"
            ]
          },
          "metadata": {},
          "execution_count": 25
        }
      ],
      "source": [
        "x = np.array([[1, 2, 3], [4, 5, 6], [7, 8, 9], [10, 11, 12]])\n",
        "print(x.shape)\n",
        "x"
      ]
    },
    {
      "cell_type": "code",
      "execution_count": 26,
      "metadata": {
        "id": "3VSsSCW3cDJ5",
        "outputId": "4d8109da-2389-4bf0-e74a-348e7c19fc9a",
        "colab": {
          "base_uri": "https://localhost:8080/"
        }
      },
      "outputs": [
        {
          "output_type": "execute_result",
          "data": {
            "text/plain": [
              "array([1, 2, 3])"
            ]
          },
          "metadata": {},
          "execution_count": 26
        }
      ],
      "source": [
        "# Retrieving the first row\n",
        "x[0]"
      ]
    },
    {
      "cell_type": "code",
      "execution_count": 27,
      "metadata": {
        "id": "jSrZiBQQcDJ5",
        "outputId": "29ab7b73-8493-4716-d3b6-eb476b6cada2",
        "colab": {
          "base_uri": "https://localhost:8080/"
        }
      },
      "outputs": [
        {
          "output_type": "execute_result",
          "data": {
            "text/plain": [
              "array([[ 4,  5,  6],\n",
              "       [ 7,  8,  9],\n",
              "       [10, 11, 12]])"
            ]
          },
          "metadata": {},
          "execution_count": 27
        }
      ],
      "source": [
        "# Retrieving all rows after the first row\n",
        "x[1:]"
      ]
    },
    {
      "cell_type": "markdown",
      "metadata": {
        "id": "ZK5i-vf0cDJ5"
      },
      "source": [
        "### This becomes particularly useful in multidimensional arrays when we can slice on multiple dimensions"
      ]
    },
    {
      "cell_type": "code",
      "execution_count": 28,
      "metadata": {
        "id": "oqpsDE18cDJ5",
        "outputId": "0ff33aa7-93be-41e3-d399-d85edc665720",
        "colab": {
          "base_uri": "https://localhost:8080/"
        }
      },
      "outputs": [
        {
          "output_type": "execute_result",
          "data": {
            "text/plain": [
              "array([ 1,  4,  7, 10])"
            ]
          },
          "metadata": {},
          "execution_count": 28
        }
      ],
      "source": [
        "# All rows, column 0\n",
        "x[:,0]"
      ]
    },
    {
      "cell_type": "code",
      "execution_count": 29,
      "metadata": {
        "id": "I_3vG4OycDJ5",
        "outputId": "639b9ce4-ccb3-45f4-ebe5-d84b9c4773e2",
        "colab": {
          "base_uri": "https://localhost:8080/"
        }
      },
      "outputs": [
        {
          "output_type": "execute_result",
          "data": {
            "text/plain": [
              "array([[ 8,  9],\n",
              "       [11, 12]])"
            ]
          },
          "metadata": {},
          "execution_count": 29
        }
      ],
      "source": [
        "# Rows 2 through 4, columns 1 through 3\n",
        "x[2:4,1:3]"
      ]
    },
    {
      "cell_type": "markdown",
      "metadata": {
        "id": "dnhiKnKMcDJ5"
      },
      "source": [
        "### Notice that you can't slice in multiple dimensions naturally with built-in lists"
      ]
    },
    {
      "cell_type": "code",
      "execution_count": 30,
      "metadata": {
        "id": "eHf_agTncDJ5",
        "outputId": "6a918ba3-b1d2-4bd4-fb3f-7e25157d9456",
        "colab": {
          "base_uri": "https://localhost:8080/"
        }
      },
      "outputs": [
        {
          "output_type": "execute_result",
          "data": {
            "text/plain": [
              "[[1, 2, 3], [4, 5, 6], [7, 8, 9], [10, 11, 12]]"
            ]
          },
          "metadata": {},
          "execution_count": 30
        }
      ],
      "source": [
        "x = [[1, 2, 3], [4, 5, 6], [7, 8, 9], [10, 11, 12]]\n",
        "x"
      ]
    },
    {
      "cell_type": "code",
      "execution_count": 31,
      "metadata": {
        "id": "MAUGBLw7cDJ5",
        "outputId": "f65a82ad-5a4b-481b-ff2a-6c29cdd4465f",
        "colab": {
          "base_uri": "https://localhost:8080/"
        }
      },
      "outputs": [
        {
          "output_type": "execute_result",
          "data": {
            "text/plain": [
              "[1, 2, 3]"
            ]
          },
          "metadata": {},
          "execution_count": 31
        }
      ],
      "source": [
        "x[0]"
      ]
    },
    {
      "cell_type": "code",
      "execution_count": 32,
      "metadata": {
        "id": "bQ9HeqB3cDJ5",
        "outputId": "e8a1b503-2145-47af-8b96-73159b192be3",
        "colab": {
          "base_uri": "https://localhost:8080/",
          "height": 141
        }
      },
      "outputs": [
        {
          "output_type": "error",
          "ename": "TypeError",
          "evalue": "list indices must be integers or slices, not tuple",
          "traceback": [
            "\u001b[0;31m---------------------------------------------------------------------------\u001b[0m",
            "\u001b[0;31mTypeError\u001b[0m                                 Traceback (most recent call last)",
            "\u001b[0;32m<ipython-input-32-879a04ce8a40>\u001b[0m in \u001b[0;36m<cell line: 1>\u001b[0;34m()\u001b[0m\n\u001b[0;32m----> 1\u001b[0;31m \u001b[0mx\u001b[0m\u001b[0;34m[\u001b[0m\u001b[0;34m:\u001b[0m\u001b[0;34m,\u001b[0m\u001b[0;36m0\u001b[0m\u001b[0;34m]\u001b[0m\u001b[0;34m\u001b[0m\u001b[0;34m\u001b[0m\u001b[0m\n\u001b[0m",
            "\u001b[0;31mTypeError\u001b[0m: list indices must be integers or slices, not tuple"
          ]
        }
      ],
      "source": [
        "x[:,0]"
      ]
    },
    {
      "cell_type": "code",
      "execution_count": 33,
      "metadata": {
        "id": "Ed_t32oEcDJ5",
        "outputId": "cc7fd69f-a311-4d84-ab0a-3f363eb82657",
        "colab": {
          "base_uri": "https://localhost:8080/"
        }
      },
      "outputs": [
        {
          "output_type": "execute_result",
          "data": {
            "text/plain": [
              "[1, 4, 7, 10]"
            ]
          },
          "metadata": {},
          "execution_count": 33
        }
      ],
      "source": [
        "# To slice along a second dimension with lists we must verbosely use a list comprehension\n",
        "[i[0] for i in x]"
      ]
    },
    {
      "cell_type": "code",
      "execution_count": 34,
      "metadata": {
        "id": "8zskLmdmcDJ5",
        "outputId": "b293fffc-e44b-4013-8bfd-047c39949373",
        "colab": {
          "base_uri": "https://localhost:8080/"
        }
      },
      "outputs": [
        {
          "output_type": "execute_result",
          "data": {
            "text/plain": [
              "[[8, 9], [11, 12]]"
            ]
          },
          "metadata": {},
          "execution_count": 34
        }
      ],
      "source": [
        "# Doing this in multiple dimensions with lists\n",
        "[i[1:3] for i in x[2:4]]"
      ]
    },
    {
      "cell_type": "markdown",
      "metadata": {
        "id": "v_PkJI_ocDJ5"
      },
      "source": [
        "### 3D Slicing"
      ]
    },
    {
      "cell_type": "code",
      "execution_count": 35,
      "metadata": {
        "id": "0GNinPlGcDJ5",
        "outputId": "14691434-2049-4f6b-c195-c205ef785754",
        "colab": {
          "base_uri": "https://localhost:8080/"
        }
      },
      "outputs": [
        {
          "output_type": "execute_result",
          "data": {
            "text/plain": [
              "array([[[ 1,  2,  3],\n",
              "        [ 4,  5,  6]],\n",
              "\n",
              "       [[ 7,  8,  9],\n",
              "        [10, 11, 12]]])"
            ]
          },
          "metadata": {},
          "execution_count": 35
        }
      ],
      "source": [
        "# With an array\n",
        "x = np.array([\n",
        "              [[1,2,3], [4,5,6]],\n",
        "              [[7,8,9], [10,11,12]]\n",
        "             ])\n",
        "x"
      ]
    },
    {
      "cell_type": "code",
      "execution_count": 36,
      "metadata": {
        "id": "xo4kltUIcDJ6",
        "outputId": "6b7f0571-da21-40bc-d02a-dfedb5fa5d9f",
        "colab": {
          "base_uri": "https://localhost:8080/"
        }
      },
      "outputs": [
        {
          "output_type": "execute_result",
          "data": {
            "text/plain": [
              "(2, 2, 3)"
            ]
          },
          "metadata": {},
          "execution_count": 36
        }
      ],
      "source": [
        "x.shape"
      ]
    },
    {
      "cell_type": "code",
      "execution_count": 37,
      "metadata": {
        "id": "l3_cfsZEcDJ6",
        "outputId": "392d7177-11aa-43e6-aa08-5c5026bf0d16",
        "colab": {
          "base_uri": "https://localhost:8080/"
        }
      },
      "outputs": [
        {
          "output_type": "execute_result",
          "data": {
            "text/plain": [
              "array([[ 3,  6],\n",
              "       [ 9, 12]])"
            ]
          },
          "metadata": {},
          "execution_count": 37
        }
      ],
      "source": [
        "x[:,:,-1]"
      ]
    },
    {
      "cell_type": "markdown",
      "metadata": {
        "id": "RkmLwxR_cDJ6"
      },
      "source": [
        "## Summary\n",
        "\n",
        "Great! You learned about a bunch of NumPy commands. Now, let's move over to the lab to put your new skills into practice!"
      ]
    }
  ],
  "metadata": {
    "kernelspec": {
      "display_name": "Python 3",
      "language": "python",
      "name": "python3"
    },
    "language_info": {
      "codemirror_mode": {
        "name": "ipython",
        "version": 3
      },
      "file_extension": ".py",
      "mimetype": "text/x-python",
      "name": "python",
      "nbconvert_exporter": "python",
      "pygments_lexer": "ipython3",
      "version": "3.7.3"
    },
    "colab": {
      "provenance": [],
      "name": "Getting Started with NumPy.ipynb",
      "include_colab_link": true
    }
  },
  "nbformat": 4,
  "nbformat_minor": 0
}