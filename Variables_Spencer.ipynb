{
  "cells": [
    {
      "cell_type": "markdown",
      "metadata": {
        "id": "view-in-github",
        "colab_type": "text"
      },
      "source": [
        "<a href=\"https://colab.research.google.com/github/SpencerLugalia/Spencer-1/blob/main/Variables_Spencer.ipynb\" target=\"_parent\"><img src=\"https://colab.research.google.com/assets/colab-badge.svg\" alt=\"Open In Colab\"/></a>"
      ]
    },
    {
      "cell_type": "markdown",
      "metadata": {
        "id": "yJd3w6hJAvfw"
      },
      "source": [
        "# Introduction to Variables: Variable Assignment"
      ]
    },
    {
      "cell_type": "markdown",
      "metadata": {
        "id": "pZPwHCozAvf0"
      },
      "source": [
        "## Introduction"
      ]
    },
    {
      "cell_type": "markdown",
      "metadata": {
        "id": "OR4PHc8QAvf0"
      },
      "source": [
        "> \"There are only two hard things in Computer Science: cache invalidation and naming things.\"\n",
        "\n",
        "> -- Phil Karlton\n",
        "\n",
        "> \"...But ordinary language is all right.\"\n",
        "\n",
        "> -- Ludwig Wittgenstein"
      ]
    },
    {
      "cell_type": "markdown",
      "metadata": {
        "id": "DRybt3F7Avf0"
      },
      "source": [
        "## Objectives\n",
        "You will be able to:\n",
        "\n",
        "* Assign and declare a Python variable"
      ]
    },
    {
      "cell_type": "markdown",
      "metadata": {
        "id": "0rJJY2WMAvf1"
      },
      "source": [
        "## Declaring and Assigning Variables"
      ]
    },
    {
      "cell_type": "markdown",
      "metadata": {
        "id": "OTsYdg1ZAvf1"
      },
      "source": [
        "In this lesson, we'll learn how to use variables to assign names to data.  For example, the name `\"art vandelay\"`."
      ]
    },
    {
      "cell_type": "code",
      "execution_count": 1,
      "metadata": {
        "id": "HX9OQXjzAvf1",
        "outputId": "373b85a5-bb82-4b98-eba4-2745d51b4992",
        "colab": {
          "base_uri": "https://localhost:8080/",
          "height": 35
        }
      },
      "outputs": [
        {
          "output_type": "execute_result",
          "data": {
            "text/plain": [
              "'Art Vandelay'"
            ],
            "application/vnd.google.colaboratory.intrinsic+json": {
              "type": "string"
            }
          },
          "metadata": {},
          "execution_count": 1
        }
      ],
      "source": [
        "\"Art Vandelay\""
      ]
    },
    {
      "cell_type": "markdown",
      "metadata": {
        "id": "wZXpqZglAvf3"
      },
      "source": [
        "Now months later, if we see that string in some code, we may be confused as to what it is, and with even more data, this only becomes more difficult.\n",
        "\n",
        "So, let's use variables to indicate what each of the following strings mean."
      ]
    },
    {
      "cell_type": "code",
      "execution_count": 2,
      "metadata": {
        "id": "Kq7C5vyTAvf3"
      },
      "outputs": [],
      "source": [
        "email = \"art.vandelay@vandelay.com\""
      ]
    },
    {
      "cell_type": "markdown",
      "metadata": {
        "id": "KbHMNzyRAvf4"
      },
      "source": [
        "> **Note:** For this, and all of the subsequent code in gray boxes, you should press shift + enter to ensure that the code executes. If you do not do so with the line above for example, then when we reference `email` in the lines that follow, Jupyter will throw an error indicating that the variable is undefined. So, it is not enough to just type the correct code, we need to run shift + enter on our gray boxes to run this code."
      ]
    },
    {
      "cell_type": "markdown",
      "metadata": {
        "id": "mCLYpYuPAvf4"
      },
      "source": [
        "In programming terms, we say that we just declared a variable, `email`, and assigned it to the string, `\"art.vandelay@vandelay.com\"`.  To do so, we'll follow the procedure below:\n",
        "\n",
        "    variable = data\n",
        "\n",
        "Now that we have assigned a variable `email` to a string, we just type the word `email` to see the string again."
      ]
    },
    {
      "cell_type": "code",
      "execution_count": 3,
      "metadata": {
        "id": "fZMiMuCbAvf4",
        "outputId": "19ca10e5-b911-4822-a0bf-cf9c8dec8821",
        "colab": {
          "base_uri": "https://localhost:8080/",
          "height": 35
        }
      },
      "outputs": [
        {
          "output_type": "execute_result",
          "data": {
            "text/plain": [
              "'art.vandelay@vandelay.com'"
            ],
            "application/vnd.google.colaboratory.intrinsic+json": {
              "type": "string"
            }
          },
          "metadata": {},
          "execution_count": 3
        }
      ],
      "source": [
        "email"
      ]
    },
    {
      "cell_type": "markdown",
      "metadata": {
        "id": "dJDER2BLAvf4"
      },
      "source": [
        "> *remember to press shift + enter on the gray box above to see the value of our variable, *`email`*.*"
      ]
    },
    {
      "cell_type": "markdown",
      "metadata": {
        "id": "oAaPwWktAvf4"
      },
      "source": [
        "Now let's try this with the website:"
      ]
    },
    {
      "cell_type": "code",
      "execution_count": 4,
      "metadata": {
        "id": "aTlp13zGAvf4",
        "outputId": "32908f51-c94f-4184-d2c5-8d27ee106edd",
        "colab": {
          "base_uri": "https://localhost:8080/",
          "height": 35
        }
      },
      "outputs": [
        {
          "output_type": "execute_result",
          "data": {
            "text/plain": [
              "'vandelay.com'"
            ],
            "application/vnd.google.colaboratory.intrinsic+json": {
              "type": "string"
            }
          },
          "metadata": {},
          "execution_count": 4
        }
      ],
      "source": [
        "website = \"vandelay.com\"\n",
        "website"
      ]
    },
    {
      "cell_type": "markdown",
      "metadata": {
        "id": "FKewxeCRAvf5"
      },
      "source": [
        "Note that if you introduce a new variable, (declare it), but do not also assign it in the same line, Python will raise an error."
      ]
    },
    {
      "cell_type": "code",
      "execution_count": 5,
      "metadata": {
        "id": "fKi8HCdbAvf5",
        "outputId": "0b5ea1e1-53a3-47da-d02e-c95f80428c9b",
        "colab": {
          "base_uri": "https://localhost:8080/",
          "height": 141
        }
      },
      "outputs": [
        {
          "output_type": "error",
          "ename": "NameError",
          "evalue": "name 'full_name' is not defined",
          "traceback": [
            "\u001b[0;31m---------------------------------------------------------------------------\u001b[0m",
            "\u001b[0;31mNameError\u001b[0m                                 Traceback (most recent call last)",
            "\u001b[0;32m<ipython-input-5-e1e889fa3b78>\u001b[0m in \u001b[0;36m<cell line: 1>\u001b[0;34m()\u001b[0m\n\u001b[0;32m----> 1\u001b[0;31m \u001b[0mfull_name\u001b[0m\u001b[0;34m\u001b[0m\u001b[0;34m\u001b[0m\u001b[0m\n\u001b[0m",
            "\u001b[0;31mNameError\u001b[0m: name 'full_name' is not defined"
          ]
        }
      ],
      "source": [
        "full_name"
      ]
    },
    {
      "cell_type": "markdown",
      "metadata": {
        "id": "RdPgloawAvf5"
      },
      "source": [
        "That error tells us that `full_name` is not defined.  We just fix this by declaring `full_name`, storing data inside that variable and returning that variable in the same line."
      ]
    },
    {
      "cell_type": "code",
      "execution_count": 6,
      "metadata": {
        "id": "M9WtP85xAvf5",
        "outputId": "fafc8f03-e103-46e1-f95f-bdedd2162979",
        "colab": {
          "base_uri": "https://localhost:8080/",
          "height": 35
        }
      },
      "outputs": [
        {
          "output_type": "execute_result",
          "data": {
            "text/plain": [
              "'Art Vandelay'"
            ],
            "application/vnd.google.colaboratory.intrinsic+json": {
              "type": "string"
            }
          },
          "metadata": {},
          "execution_count": 6
        }
      ],
      "source": [
        "full_name = 'Art Vandelay'\n",
        "full_name"
      ]
    },
    {
      "cell_type": "code",
      "source": [
        "type(full_name)"
      ],
      "metadata": {
        "colab": {
          "base_uri": "https://localhost:8080/"
        },
        "id": "J1OOrQEYgfEE",
        "outputId": "d4b3dfe6-9dfa-4086-b308-c09f0dde6d73"
      },
      "execution_count": 8,
      "outputs": [
        {
          "output_type": "execute_result",
          "data": {
            "text/plain": [
              "str"
            ]
          },
          "metadata": {},
          "execution_count": 8
        }
      ]
    },
    {
      "cell_type": "code",
      "source": [
        "print(full_name)"
      ],
      "metadata": {
        "colab": {
          "base_uri": "https://localhost:8080/"
        },
        "id": "IcXwHiuKgTMO",
        "outputId": "bba7e8f2-73cb-4f30-f553-65d01613d13d"
      },
      "execution_count": 7,
      "outputs": [
        {
          "output_type": "stream",
          "name": "stdout",
          "text": [
            "Art Vandelay\n"
          ]
        }
      ]
    },
    {
      "cell_type": "markdown",
      "metadata": {
        "id": "Ikfsf7X5Avf5"
      },
      "source": [
        "So this is assigning and reading a variable.  And when we want to see some information again, we can easily find out."
      ]
    },
    {
      "cell_type": "code",
      "execution_count": 9,
      "metadata": {
        "id": "DZcdf4H6Avf5",
        "outputId": "2dd31848-1233-4382-cf99-4d3a818e8940",
        "colab": {
          "base_uri": "https://localhost:8080/",
          "height": 35
        }
      },
      "outputs": [
        {
          "output_type": "execute_result",
          "data": {
            "text/plain": [
              "'art.vandelay@vandelay.com'"
            ],
            "application/vnd.google.colaboratory.intrinsic+json": {
              "type": "string"
            }
          },
          "metadata": {},
          "execution_count": 9
        }
      ],
      "source": [
        "email"
      ]
    },
    {
      "cell_type": "markdown",
      "metadata": {
        "id": "9QiQVgfcAvf5"
      },
      "source": [
        "## Declaring variables without assignment"
      ]
    },
    {
      "cell_type": "markdown",
      "metadata": {
        "id": "-lQ1-YaHAvf5"
      },
      "source": [
        "We have seen that we can have data without assigning it to variables.  "
      ]
    },
    {
      "cell_type": "code",
      "execution_count": null,
      "metadata": {
        "id": "1igZ-JJNAvf5",
        "outputId": "7a93502f-4f8b-4624-a679-c482c895ab27"
      },
      "outputs": [
        {
          "data": {
            "text/plain": [
              "'Unassigned data'"
            ]
          },
          "execution_count": 8,
          "metadata": {},
          "output_type": "execute_result"
        }
      ],
      "source": [
        "\"Unassigned data\""
      ]
    },
    {
      "cell_type": "markdown",
      "metadata": {
        "id": "WgH1DGNDAvf5"
      },
      "source": [
        "Sometimes we wish to declare a variable without assigning it to data.  In Python, that's a little tricky to do.  As we just saw with `name`, declaring variables without assignment throws an error.  Thankfully, Python has a special type for us that represents nothing at all."
      ]
    },
    {
      "cell_type": "code",
      "execution_count": 10,
      "metadata": {
        "id": "PQDoaAb7Avf6"
      },
      "outputs": [],
      "source": [
        "None"
      ]
    },
    {
      "cell_type": "code",
      "execution_count": 11,
      "metadata": {
        "id": "92CMf1LlAvf6",
        "outputId": "309f33c3-1887-403a-8d43-8012e5d6cf1b",
        "colab": {
          "base_uri": "https://localhost:8080/"
        }
      },
      "outputs": [
        {
          "output_type": "execute_result",
          "data": {
            "text/plain": [
              "NoneType"
            ]
          },
          "metadata": {},
          "execution_count": 11
        }
      ],
      "source": [
        "type(None)"
      ]
    },
    {
      "cell_type": "markdown",
      "metadata": {
        "id": "o7GBx39PAvf6"
      },
      "source": [
        "None is a data type in Python that represents nothing.  So, if we do not know the type of a variable and want to have the data to the variable be assigned later, we can assign that variable to `None`."
      ]
    },
    {
      "cell_type": "code",
      "execution_count": 12,
      "metadata": {
        "id": "LMXC1rSwAvf6"
      },
      "outputs": [],
      "source": [
        "address = None"
      ]
    },
    {
      "cell_type": "markdown",
      "metadata": {
        "id": "zcil8YiOAvf6"
      },
      "source": [
        "Notice that `address` is now assigned, but it is assigned to `None`."
      ]
    },
    {
      "cell_type": "code",
      "execution_count": null,
      "metadata": {
        "id": "-q_JjXM0Avf6"
      },
      "outputs": [],
      "source": [
        "address"
      ]
    },
    {
      "cell_type": "markdown",
      "metadata": {
        "id": "bdkfEQr3Avf6"
      },
      "source": [
        "**Note:** *when variables are assigned to `None`, pressing shift + enter on the cell block will not output anything.*"
      ]
    },
    {
      "cell_type": "markdown",
      "metadata": {
        "id": "xVW8J0YwAvf6"
      },
      "source": [
        "## Reassigning variables"
      ]
    },
    {
      "cell_type": "markdown",
      "metadata": {
        "id": "PjC5DwIXAvf6"
      },
      "source": [
        "Now that we have this data, we can imagine using it for some kind of instruction.  For example, say we want to write ourself a memo on how to reach out to someone we just met. Here's the message:"
      ]
    },
    {
      "cell_type": "code",
      "execution_count": 13,
      "metadata": {
        "id": "64U9xOLSAvf6",
        "outputId": "9f14e62a-4066-459e-99db-ecc25eaf950d",
        "colab": {
          "base_uri": "https://localhost:8080/",
          "height": 35
        }
      },
      "outputs": [
        {
          "output_type": "execute_result",
          "data": {
            "text/plain": [
              "\"Send an email to Art Vandelay at 'art.vandelay@vandelay.com' to say how nice it was meeting yesterday.\""
            ],
            "application/vnd.google.colaboratory.intrinsic+json": {
              "type": "string"
            }
          },
          "metadata": {},
          "execution_count": 13
        }
      ],
      "source": [
        "\"Send an email to Art Vandelay at 'art.vandelay@vandelay.com' to say how nice it was meeting yesterday.\""
      ]
    },
    {
      "cell_type": "markdown",
      "metadata": {
        "id": "i6UNBw5-Avf6"
      },
      "source": [
        "If we construct this message with variables, we can write the following:"
      ]
    },
    {
      "cell_type": "code",
      "execution_count": 14,
      "metadata": {
        "id": "BDxE59_rAvf6",
        "outputId": "45593702-4691-4b62-da73-ae4e827b63ce",
        "colab": {
          "base_uri": "https://localhost:8080/",
          "height": 35
        }
      },
      "outputs": [
        {
          "output_type": "execute_result",
          "data": {
            "text/plain": [
              "'Send an email to Art Vandelay at art.vandelay@vandelay.com to say how nice it was meeting yesterday.'"
            ],
            "application/vnd.google.colaboratory.intrinsic+json": {
              "type": "string"
            }
          },
          "metadata": {},
          "execution_count": 14
        }
      ],
      "source": [
        "\"Send an email to \" + full_name + \" at \" + email +  \" to say how nice it was meeting yesterday.\""
      ]
    },
    {
      "cell_type": "markdown",
      "metadata": {
        "id": "ZioB1DH-Avf7"
      },
      "source": [
        "Now you meet someone else, \"Liz Kaplan\" with the email of \"liz@ka-plan.com\" and want to write a memo with the same instructions. Only two things vary in the memo: name and email. This should be easy enough given the way we set up our code above. First we need to change the variables, `full_name` and `email`, by setting them to our new data."
      ]
    },
    {
      "cell_type": "code",
      "execution_count": 16,
      "metadata": {
        "id": "SXI82voIAvf7"
      },
      "outputs": [],
      "source": [
        "full_name = 'Liz Kaplan'\n",
        "email = 'liz@ka-plan.com'"
      ]
    },
    {
      "cell_type": "markdown",
      "metadata": {
        "id": "RinFu_x6AvgA"
      },
      "source": [
        "So as you can see, we reassign our variables by just setting `variable = 'new data'`. Presto, our variable is then updated."
      ]
    },
    {
      "cell_type": "code",
      "execution_count": 17,
      "metadata": {
        "id": "5ikKyrObAvgA",
        "outputId": "300db09b-5210-4439-94f1-1c5ad4aaa600",
        "colab": {
          "base_uri": "https://localhost:8080/",
          "height": 35
        }
      },
      "outputs": [
        {
          "output_type": "execute_result",
          "data": {
            "text/plain": [
              "'Liz Kaplan'"
            ],
            "application/vnd.google.colaboratory.intrinsic+json": {
              "type": "string"
            }
          },
          "metadata": {},
          "execution_count": 17
        }
      ],
      "source": [
        "full_name # 'Liz Kaplan'"
      ]
    },
    {
      "cell_type": "code",
      "execution_count": 18,
      "metadata": {
        "id": "2nnY03dTAvgA",
        "outputId": "dd7659b4-a588-436a-95f7-9cff371909e9",
        "colab": {
          "base_uri": "https://localhost:8080/",
          "height": 35
        }
      },
      "outputs": [
        {
          "output_type": "execute_result",
          "data": {
            "text/plain": [
              "'liz@ka-plan.com'"
            ],
            "application/vnd.google.colaboratory.intrinsic+json": {
              "type": "string"
            }
          },
          "metadata": {},
          "execution_count": 18
        }
      ],
      "source": [
        "email # 'liz@ka-plan.com'"
      ]
    },
    {
      "cell_type": "markdown",
      "metadata": {
        "id": "r0fF6UBNAvgA"
      },
      "source": [
        "Now, if we copy and re-run our previous code, we will see it is automatically updated."
      ]
    },
    {
      "cell_type": "code",
      "execution_count": 19,
      "metadata": {
        "id": "FQB7rELkAvgA",
        "outputId": "71449e10-f91d-436f-b13f-4e4ce2e8e10d",
        "colab": {
          "base_uri": "https://localhost:8080/",
          "height": 35
        }
      },
      "outputs": [
        {
          "output_type": "execute_result",
          "data": {
            "text/plain": [
              "'Send an email to Liz Kaplan at liz@ka-plan.com to say how nice it was meeting yesterday.'"
            ],
            "application/vnd.google.colaboratory.intrinsic+json": {
              "type": "string"
            }
          },
          "metadata": {},
          "execution_count": 19
        }
      ],
      "source": [
        "\"Send an email to \" + full_name + \" at \" + email +  \" to say how nice it was meeting yesterday.\""
      ]
    },
    {
      "cell_type": "code",
      "source": [
        "from google.colab import drive\n",
        "drive.mount('/content/drive')"
      ],
      "metadata": {
        "id": "lA5RwW6vhTqv"
      },
      "execution_count": null,
      "outputs": []
    },
    {
      "cell_type": "markdown",
      "metadata": {
        "id": "ldqg-rIJAvgA"
      },
      "source": [
        "In the line above, we are getting to some of the real power of programming. By choosing the correct variable name, we can begin to change the values of `full_name` or `email` and operate on their underlying values in the same ways."
      ]
    },
    {
      "cell_type": "markdown",
      "metadata": {
        "id": "dESCM5hRAvgA"
      },
      "source": [
        "## Summary"
      ]
    },
    {
      "cell_type": "markdown",
      "metadata": {
        "id": "eCAtRgJcAvgA"
      },
      "source": [
        "In this lesson, we got a taste for what makes computer programs so powerful.  By using variables, we can write programs that know how to combine data.  This can save us time by avoiding boring, repetitive tasks.  We declare and assign a variable with the pattern of `variable = data`, and reassign a variable with the same pattern.  To reference a variable, we simply type the variable's name.  \n",
        "\n",
        "We also saw that one of the things to pay attention to when working with variables is that they are sometimes different from what we expect.  Just type the name of the variable to see what it really is and make any necessary changes."
      ]
    }
  ],
  "metadata": {
    "kernelspec": {
      "display_name": "Python 3",
      "language": "python",
      "name": "python3"
    },
    "language_info": {
      "codemirror_mode": {
        "name": "ipython",
        "version": 3
      },
      "file_extension": ".py",
      "mimetype": "text/x-python",
      "name": "python",
      "nbconvert_exporter": "python",
      "pygments_lexer": "ipython3",
      "version": "3.6.9"
    },
    "colab": {
      "provenance": [],
      "name": "Variables Spencer.ipynb",
      "include_colab_link": true
    }
  },
  "nbformat": 4,
  "nbformat_minor": 0
}