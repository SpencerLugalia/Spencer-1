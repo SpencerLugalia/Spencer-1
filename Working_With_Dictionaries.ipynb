{
  "cells": [
    {
      "cell_type": "markdown",
      "metadata": {
        "id": "view-in-github",
        "colab_type": "text"
      },
      "source": [
        "<a href=\"https://colab.research.google.com/github/SpencerLugalia/Spencer-1/blob/main/Working_With_Dictionaries.ipynb\" target=\"_parent\"><img src=\"https://colab.research.google.com/assets/colab-badge.svg\" alt=\"Open In Colab\"/></a>"
      ]
    },
    {
      "cell_type": "markdown",
      "metadata": {
        "id": "GcRjoBL_QaX1"
      },
      "source": [
        "# Working With Dictionaries\n",
        "\n",
        "## Introduction\n",
        "\n",
        "After introducing and working with Lists, you might be wondering if there are other kinds of collections in Python that we should know about. Well, there are! In this lesson, we will introduce **dictionaries**. As we know, lists represent a collection of information that is ordered, like a list of the most watched TV shows.  However, in different situations, we may want our data to represent attributes of an entity, such as the various attributes of a single TV show like its name, genre, starring actors, etc.  For such scenarios, a **dictionary** is more natural. Dictionaries are collections of **key-value pairs**. Rather then specifying a positional index as with lists, we specify a key for a dictionary and are returned with the value associated with that key. For example, in a list, we could retrieve the third item with `list_name[2]` (remember indexing starts at 0), while in a dictionary, we would have to specify a key such as `dict_name['key_name']` to retrieve the associated value attached to that key. This is similar to traditional dictionaries: you look up a specific word (the key) to find its associated definition (the value).\n",
        "\n",
        "## Objectives\n",
        "\n",
        "You will be able to:\n",
        "\n",
        "* Assign values in a dictionary\n",
        "* Access keys and values in a dictionary\n",
        "\n",
        "## Why Use a Dictionary When We Have Lists?\n",
        "\n",
        "While lists are great, for *listing* information like we mentioned earlier, they can actually become very messy when we are trying to use them to organize data which is more a bit more complex. Let's look at a brief example of a person.\n",
        "\n",
        "Every person has a **name**, **age**, **height** (in inches), **weight** (in lbs), and **fav_lang**. How would we represent a person using a list?\n",
        "\n",
        "```python\n",
        "terrance = [\"Terrance\", 25, \"6'00\", 165, \"Python\"]\n",
        "```\n",
        "\n",
        "Now, that looks *fine* but what do we do if we want to tell someone Terrance's fav programming language? We just have to ***remember*** that Terrance's favorite programming language comes fifth in his list of information? What if he has more attributes than just the five that are listed (i.e. native_language, hometown, etc.)? What if his attributes are in a different order than we expected? We can see that this list would easily breakdown and cause more problems than it solves.\n",
        "\n",
        "However, if we use a dictionary, we can neatly organize this information and make it easier for us to use as the dictionary grows. Let's see what Terrance's information would look like using a dictionary.\n",
        "\n",
        "```python\n",
        "terrance = {'name': \"Terrance\", 'age': 25, 'weight': 72, 'height': 165, 'fav_lang': \"Python\"}\n",
        "```\n",
        "\n",
        "This dictionary definitely has more text in it, but we can see a direct association between the *attribute* or **key** and its correlated **value** (i.e. `{\"key\": \"value\"}`). This datatype makes it easier to store and access information, such as the attributes of a person or other entity. Accessing information is always done by calling the associated **key**.\n",
        "\n",
        "Let's take a deeper look at how dictionaries are built and how they work.\n",
        "\n",
        "## Creating a dictionary, and retrieving attributes\n",
        "\n",
        "Imagine we want to represent information about the TV show Friends.  Our first step might be to go to Wikipedia to find some information.\n",
        "\n",
        "![](https://curriculum-content.s3.amazonaws.com/data-science/images/friends.png)\n",
        "\n",
        "As you can see, this information is presented in two columns, with the topics or headings to the left and their specific values to the right.  Now let's see how some of the above information can be represented as a dictionary in Python."
      ]
    },
    {
      "cell_type": "code",
      "execution_count": 1,
      "metadata": {
        "id": "nbk2FKrsQaX3"
      },
      "outputs": [],
      "source": [
        "friends = {'name': 'Friends', 'genre': 'sitcom', 'no_of_seasons': 10}"
      ]
    },
    {
      "cell_type": "markdown",
      "metadata": {
        "id": "mBC5_BeJQaX4"
      },
      "source": [
        "We create a dictionary with the braces, also called curly braces.  (On your keyboard, braces are located above the return key).  A dictionary is a group of key and value pairs, with the key to the left and the corresponding value to the right.      \n",
        "\n",
        "Now that we have initialized a dictionary and assigned it to the variable, `friends`, we can retrieve the dictionary by referencing our variable."
      ]
    },
    {
      "cell_type": "code",
      "execution_count": 2,
      "metadata": {
        "id": "dryHL1guQaX4",
        "outputId": "716b9334-cda1-4e95-a60f-0f86f48b7608",
        "colab": {
          "base_uri": "https://localhost:8080/"
        }
      },
      "outputs": [
        {
          "output_type": "execute_result",
          "data": {
            "text/plain": [
              "{'name': 'Friends', 'genre': 'sitcom', 'no_of_seasons': 10}"
            ]
          },
          "metadata": {},
          "execution_count": 2
        }
      ],
      "source": [
        "friends"
      ]
    },
    {
      "cell_type": "code",
      "execution_count": 3,
      "metadata": {
        "id": "kouY7i-QQaX4",
        "outputId": "e1eac503-caa5-4e7a-f25d-ada97855460a",
        "colab": {
          "base_uri": "https://localhost:8080/"
        }
      },
      "outputs": [
        {
          "output_type": "execute_result",
          "data": {
            "text/plain": [
              "10"
            ]
          },
          "metadata": {},
          "execution_count": 3
        }
      ],
      "source": [
        "friends['no_of_seasons']"
      ]
    },
    {
      "cell_type": "markdown",
      "metadata": {
        "id": "EaJVvGhFQaX5"
      },
      "source": [
        "So to retrieve a specific value, we simply reference the dictionary, then the brackets, then the specific key.  The corresponding value is returned."
      ]
    },
    {
      "cell_type": "markdown",
      "metadata": {
        "id": "bfRMQO82QaX5"
      },
      "source": [
        "## Assigning attributes and exploring the edge cases"
      ]
    },
    {
      "cell_type": "markdown",
      "metadata": {
        "id": "sD0hVfsqQaX5"
      },
      "source": [
        "Now that we know how to retrieve values, let's take our existing `friends` dictionary, and assign it more key-value pairs.  Here is what our dictionary currently looks like."
      ]
    },
    {
      "cell_type": "code",
      "execution_count": 4,
      "metadata": {
        "id": "8LNAlmIaQaX5",
        "outputId": "55307193-5540-4ba3-dd45-a8befe0652f9",
        "colab": {
          "base_uri": "https://localhost:8080/"
        }
      },
      "outputs": [
        {
          "output_type": "execute_result",
          "data": {
            "text/plain": [
              "{'name': 'Friends', 'genre': 'sitcom', 'no_of_seasons': 10}"
            ]
          },
          "metadata": {},
          "execution_count": 4
        }
      ],
      "source": [
        "friends"
      ]
    },
    {
      "cell_type": "markdown",
      "metadata": {
        "id": "L1UT3CjpQaX5"
      },
      "source": [
        "Let's add a key of `no_of_episodes` with a value of 236."
      ]
    },
    {
      "cell_type": "code",
      "execution_count": 5,
      "metadata": {
        "id": "SP6pBaBWQaX5"
      },
      "outputs": [],
      "source": [
        "friends['no_of_episodes'] = 236"
      ]
    },
    {
      "cell_type": "code",
      "execution_count": 6,
      "metadata": {
        "id": "mJ8ZmxMWQaX5",
        "outputId": "eb92e2a0-58fd-4502-c34b-7cead6d414ce",
        "colab": {
          "base_uri": "https://localhost:8080/"
        }
      },
      "outputs": [
        {
          "output_type": "execute_result",
          "data": {
            "text/plain": [
              "{'name': 'Friends',\n",
              " 'genre': 'sitcom',\n",
              " 'no_of_seasons': 10,\n",
              " 'no_of_episodes': 236}"
            ]
          },
          "metadata": {},
          "execution_count": 6
        }
      ],
      "source": [
        "friends"
      ]
    },
    {
      "cell_type": "markdown",
      "metadata": {
        "id": "O8EAdc_pQaX5"
      },
      "source": [
        "So as you can see, our values of a dictionary can be any data type -- strings, numbers, and others.  How about keys?  Do keys have to be strings? Asking questions like this is important for improving your understanding! Moreover, we don't always have to look up the answer; we can experiment and note the results."
      ]
    },
    {
      "cell_type": "code",
      "execution_count": 12,
      "metadata": {
        "id": "MZ-ulFYZQaX6"
      },
      "outputs": [],
      "source": [
        "friends[14] = 'some value'"
      ]
    },
    {
      "cell_type": "code",
      "execution_count": 13,
      "metadata": {
        "id": "4jiSxICPQaX6",
        "outputId": "34c63b03-34f7-4ea0-f9c0-b731b6e52f84",
        "colab": {
          "base_uri": "https://localhost:8080/",
          "height": 35
        }
      },
      "outputs": [
        {
          "output_type": "execute_result",
          "data": {
            "text/plain": [
              "'some value'"
            ],
            "application/vnd.google.colaboratory.intrinsic+json": {
              "type": "string"
            }
          },
          "metadata": {},
          "execution_count": 13
        }
      ],
      "source": [
        "friends[14]"
      ]
    },
    {
      "cell_type": "code",
      "source": [
        "friends"
      ],
      "metadata": {
        "colab": {
          "base_uri": "https://localhost:8080/"
        },
        "id": "OZLBkR90fUOo",
        "outputId": "ce3a3608-a03f-4f01-9e0d-89c8d5aaa50c"
      },
      "execution_count": 14,
      "outputs": [
        {
          "output_type": "execute_result",
          "data": {
            "text/plain": [
              "{'name': 'Friends',\n",
              " 'genre': 'sitcom',\n",
              " 'no_of_seasons': 10,\n",
              " 'no_of_episodes': 236,\n",
              " 14: 'some value'}"
            ]
          },
          "metadata": {},
          "execution_count": 14
        }
      ]
    },
    {
      "cell_type": "markdown",
      "metadata": {
        "id": "lI73g1ueQaX6"
      },
      "source": [
        "Apparently keys can also be integers."
      ]
    },
    {
      "cell_type": "markdown",
      "metadata": {
        "id": "4CEhY6DlQaX6"
      },
      "source": [
        "Ok, let's get rid of that key - it doesn't make much sense."
      ]
    },
    {
      "cell_type": "code",
      "execution_count": 15,
      "metadata": {
        "id": "ocCD07w0QaX6"
      },
      "outputs": [],
      "source": [
        "del friends[14]"
      ]
    },
    {
      "cell_type": "markdown",
      "metadata": {
        "id": "Z1c0ATXAQaX6"
      },
      "source": [
        "We use the delete function, `del`, followed by the dictionary and the name of the key.  And now the key-value pair is gone."
      ]
    },
    {
      "cell_type": "code",
      "execution_count": 16,
      "metadata": {
        "id": "hq8eRQlBQaX6",
        "outputId": "94c1d0f6-7d95-4146-ca40-7665de67714e",
        "colab": {
          "base_uri": "https://localhost:8080/"
        }
      },
      "outputs": [
        {
          "output_type": "execute_result",
          "data": {
            "text/plain": [
              "{'name': 'Friends',\n",
              " 'genre': 'sitcom',\n",
              " 'no_of_seasons': 10,\n",
              " 'no_of_episodes': 236}"
            ]
          },
          "metadata": {},
          "execution_count": 16
        }
      ],
      "source": [
        "friends"
      ]
    },
    {
      "cell_type": "markdown",
      "metadata": {
        "id": "NlwXlWUkQaX6"
      },
      "source": [
        "## More Dictionary Methods\n",
        "\n",
        "There's plenty more that you can do with dictionaries, although worrying too much about specifics can be overwhelming early on. As a good starting point, recall that you can look up dictionary methods using tab completion, or the help method. Furthermore, if you wish to know how a specific method works, you can pull up the docstring."
      ]
    },
    {
      "cell_type": "code",
      "execution_count": null,
      "metadata": {
        "id": "-V-Nn3M0QaX6",
        "outputId": "c9234827-e1e2-434f-e71b-994ad8c1ee08"
      },
      "outputs": [
        {
          "name": "stdout",
          "output_type": "stream",
          "text": [
            "Help on class dict in module builtins:\n",
            "\n",
            "class dict(object)\n",
            " |  dict() -> new empty dictionary\n",
            " |  dict(mapping) -> new dictionary initialized from a mapping object's\n",
            " |      (key, value) pairs\n",
            " |  dict(iterable) -> new dictionary initialized as if via:\n",
            " |      d = {}\n",
            " |      for k, v in iterable:\n",
            " |          d[k] = v\n",
            " |  dict(**kwargs) -> new dictionary initialized with the name=value pairs\n",
            " |      in the keyword argument list.  For example:  dict(one=1, two=2)\n",
            " |  \n",
            " |  Methods defined here:\n",
            " |  \n",
            " |  __contains__(self, key, /)\n",
            " |      True if the dictionary has the specified key, else False.\n",
            " |  \n",
            " |  __delitem__(self, key, /)\n",
            " |      Delete self[key].\n",
            " |  \n",
            " |  __eq__(self, value, /)\n",
            " |      Return self==value.\n",
            " |  \n",
            " |  __ge__(self, value, /)\n",
            " |      Return self>=value.\n",
            " |  \n",
            " |  __getattribute__(self, name, /)\n",
            " |      Return getattr(self, name).\n",
            " |  \n",
            " |  __getitem__(...)\n",
            " |      x.__getitem__(y) <==> x[y]\n",
            " |  \n",
            " |  __gt__(self, value, /)\n",
            " |      Return self>value.\n",
            " |  \n",
            " |  __init__(self, /, *args, **kwargs)\n",
            " |      Initialize self.  See help(type(self)) for accurate signature.\n",
            " |  \n",
            " |  __iter__(self, /)\n",
            " |      Implement iter(self).\n",
            " |  \n",
            " |  __le__(self, value, /)\n",
            " |      Return self<=value.\n",
            " |  \n",
            " |  __len__(self, /)\n",
            " |      Return len(self).\n",
            " |  \n",
            " |  __lt__(self, value, /)\n",
            " |      Return self<value.\n",
            " |  \n",
            " |  __ne__(self, value, /)\n",
            " |      Return self!=value.\n",
            " |  \n",
            " |  __repr__(self, /)\n",
            " |      Return repr(self).\n",
            " |  \n",
            " |  __setitem__(self, key, value, /)\n",
            " |      Set self[key] to value.\n",
            " |  \n",
            " |  __sizeof__(...)\n",
            " |      D.__sizeof__() -> size of D in memory, in bytes\n",
            " |  \n",
            " |  clear(...)\n",
            " |      D.clear() -> None.  Remove all items from D.\n",
            " |  \n",
            " |  copy(...)\n",
            " |      D.copy() -> a shallow copy of D\n",
            " |  \n",
            " |  get(self, key, default=None, /)\n",
            " |      Return the value for key if key is in the dictionary, else default.\n",
            " |  \n",
            " |  items(...)\n",
            " |      D.items() -> a set-like object providing a view on D's items\n",
            " |  \n",
            " |  keys(...)\n",
            " |      D.keys() -> a set-like object providing a view on D's keys\n",
            " |  \n",
            " |  pop(...)\n",
            " |      D.pop(k[,d]) -> v, remove specified key and return the corresponding value.\n",
            " |      If key is not found, d is returned if given, otherwise KeyError is raised\n",
            " |  \n",
            " |  popitem(...)\n",
            " |      D.popitem() -> (k, v), remove and return some (key, value) pair as a\n",
            " |      2-tuple; but raise KeyError if D is empty.\n",
            " |  \n",
            " |  setdefault(self, key, default=None, /)\n",
            " |      Insert key with a value of default if key is not in the dictionary.\n",
            " |      \n",
            " |      Return the value for key if key is in the dictionary, else default.\n",
            " |  \n",
            " |  update(...)\n",
            " |      D.update([E, ]**F) -> None.  Update D from dict/iterable E and F.\n",
            " |      If E is present and has a .keys() method, then does:  for k in E: D[k] = E[k]\n",
            " |      If E is present and lacks a .keys() method, then does:  for k, v in E: D[k] = v\n",
            " |      In either case, this is followed by: for k in F:  D[k] = F[k]\n",
            " |  \n",
            " |  values(...)\n",
            " |      D.values() -> an object providing a view on D's values\n",
            " |  \n",
            " |  ----------------------------------------------------------------------\n",
            " |  Class methods defined here:\n",
            " |  \n",
            " |  fromkeys(iterable, value=None, /) from builtins.type\n",
            " |      Create a new dictionary with keys from iterable and values set to value.\n",
            " |  \n",
            " |  ----------------------------------------------------------------------\n",
            " |  Static methods defined here:\n",
            " |  \n",
            " |  __new__(*args, **kwargs) from builtins.type\n",
            " |      Create and return a new object.  See help(type) for accurate signature.\n",
            " |  \n",
            " |  ----------------------------------------------------------------------\n",
            " |  Data and other attributes defined here:\n",
            " |  \n",
            " |  __hash__ = None\n",
            "\n"
          ]
        }
      ],
      "source": [
        "help(dict) #See all of the methods available to dictionary objects"
      ]
    },
    {
      "cell_type": "code",
      "execution_count": 18,
      "metadata": {
        "id": "jn3flq0AQaX6",
        "colab": {
          "base_uri": "https://localhost:8080/"
        },
        "outputId": "ab2d996a-cb95-461a-e2da-a82758deda75"
      },
      "outputs": [
        {
          "output_type": "execute_result",
          "data": {
            "text/plain": [
              "{'name': 'Friends',\n",
              " 'genre': 'sitcom',\n",
              " 'no_of_seasons': 10,\n",
              " 'no_of_episodes': 236}"
            ]
          },
          "metadata": {},
          "execution_count": 18
        }
      ],
      "source": [
        "# Add a dot (.) after 'friends' and press tab to see all of the available methods\n",
        "friends"
      ]
    },
    {
      "cell_type": "markdown",
      "metadata": {
        "id": "9zyzwRfDQaX6"
      },
      "source": [
        "You should see something like this:\n",
        "    \n",
        "<img src=\"https://curriculum-content.s3.amazonaws.com/data-science/images/friends_tab_preview.png\" width=550>"
      ]
    },
    {
      "cell_type": "code",
      "execution_count": 19,
      "metadata": {
        "id": "Y4z_5AmqQaX7"
      },
      "outputs": [],
      "source": [
        "#Pulling up documentation for a specific method\n",
        "friends.get?"
      ]
    },
    {
      "cell_type": "markdown",
      "metadata": {
        "id": "5dg4FROgQaX7"
      },
      "source": [
        "### Dictionaries with lists"
      ]
    },
    {
      "cell_type": "markdown",
      "metadata": {
        "id": "RNd4aMa6QaX7"
      },
      "source": [
        "If you look back up at our Friends table, you will see that there are two creators.  It probably makes sense to think of these creators as a list."
      ]
    },
    {
      "cell_type": "code",
      "execution_count": 20,
      "metadata": {
        "id": "pq7MFGAOQaX7"
      },
      "outputs": [],
      "source": [
        "creators = ['David Crane', 'Marta Kauffman']"
      ]
    },
    {
      "cell_type": "markdown",
      "metadata": {
        "id": "jFCc7mUcQaX7"
      },
      "source": [
        "So let's have our `friends` dictionary have a key of creators that points to this list."
      ]
    },
    {
      "cell_type": "code",
      "execution_count": 21,
      "metadata": {
        "id": "DGgveG-tQaX7"
      },
      "outputs": [],
      "source": [
        "friends['creators'] = ['David Crane', 'Marta Kauffman']"
      ]
    },
    {
      "cell_type": "code",
      "execution_count": 22,
      "metadata": {
        "id": "DRGc5V_0QaX7",
        "outputId": "f676c8ef-954b-4c13-8ea6-89584e5d15fd",
        "colab": {
          "base_uri": "https://localhost:8080/"
        }
      },
      "outputs": [
        {
          "output_type": "execute_result",
          "data": {
            "text/plain": [
              "{'name': 'Friends',\n",
              " 'genre': 'sitcom',\n",
              " 'no_of_seasons': 10,\n",
              " 'no_of_episodes': 236,\n",
              " 'creators': ['David Crane', 'Marta Kauffman']}"
            ]
          },
          "metadata": {},
          "execution_count": 22
        }
      ],
      "source": [
        "friends"
      ]
    },
    {
      "cell_type": "code",
      "execution_count": 23,
      "metadata": {
        "id": "EUMeHnOCQaX7",
        "outputId": "373783cc-31ef-4382-9551-dcac84db8dea",
        "colab": {
          "base_uri": "https://localhost:8080/"
        }
      },
      "outputs": [
        {
          "output_type": "execute_result",
          "data": {
            "text/plain": [
              "['David Crane', 'Marta Kauffman']"
            ]
          },
          "metadata": {},
          "execution_count": 23
        }
      ],
      "source": [
        "friends['creators']"
      ]
    },
    {
      "cell_type": "markdown",
      "metadata": {
        "id": "WxiDd_3IQaX7"
      },
      "source": [
        "And of course, if we want to get the first creator in the list, and store it as a variable, we can."
      ]
    },
    {
      "cell_type": "code",
      "execution_count": 25,
      "metadata": {
        "id": "BtlcBEMKQaX7",
        "colab": {
          "base_uri": "https://localhost:8080/",
          "height": 35
        },
        "outputId": "b4700309-605e-4fd0-b13d-31ea06408b3a"
      },
      "outputs": [
        {
          "output_type": "execute_result",
          "data": {
            "text/plain": [
              "'David Crane'"
            ],
            "application/vnd.google.colaboratory.intrinsic+json": {
              "type": "string"
            }
          },
          "metadata": {},
          "execution_count": 25
        }
      ],
      "source": [
        "david = friends['creators'][0]\n",
        "david"
      ]
    },
    {
      "cell_type": "markdown",
      "metadata": {
        "id": "wnFZ7dYgQaX7"
      },
      "source": [
        "So in the above line, we referenced the dictionary, then got to the list of creators through using the key `'creators'`.  And now that we are pointing to that list, we use the brackets to reference the string at index zero."
      ]
    },
    {
      "cell_type": "markdown",
      "metadata": {
        "id": "bxSrR0p-QaX7"
      },
      "source": [
        "###  Lists of Dictionaries"
      ]
    },
    {
      "cell_type": "markdown",
      "metadata": {
        "id": "FGi4k8wRQaX7"
      },
      "source": [
        "Now imagine we want to represent another TV show."
      ]
    },
    {
      "cell_type": "markdown",
      "metadata": {
        "id": "O17Ar_XsQaX7"
      },
      "source": [
        "![](https://curriculum-content.s3.amazonaws.com/data-science/images/seinfeld.png)"
      ]
    },
    {
      "cell_type": "markdown",
      "metadata": {
        "id": "HJIYAZCmQaX8"
      },
      "source": [
        "As you can see, Wikipedia provides us data similar to what we have for Friends."
      ]
    },
    {
      "cell_type": "code",
      "execution_count": 26,
      "metadata": {
        "id": "_HfVhoSRQaX8",
        "outputId": "550becfe-fe1f-4198-d777-82f047f08670",
        "colab": {
          "base_uri": "https://localhost:8080/"
        }
      },
      "outputs": [
        {
          "output_type": "execute_result",
          "data": {
            "text/plain": [
              "{'name': 'Friends',\n",
              " 'genre': 'sitcom',\n",
              " 'no_of_seasons': 10,\n",
              " 'no_of_episodes': 236,\n",
              " 'creators': ['David Crane', 'Marta Kauffman']}"
            ]
          },
          "metadata": {},
          "execution_count": 26
        }
      ],
      "source": [
        "friends"
      ]
    },
    {
      "cell_type": "markdown",
      "metadata": {
        "id": "zalOoHiFQaX8"
      },
      "source": [
        "  So let's represent our information for Seinfeld in a dictionary."
      ]
    },
    {
      "cell_type": "code",
      "execution_count": 27,
      "metadata": {
        "id": "taCxdCokQaX8"
      },
      "outputs": [],
      "source": [
        "seinfeld = {'name': 'Seinfeld', 'creators': ['Larry David', 'Jerry Seinfeld'], 'genre': 'sitcom', 'no_of_seasons': 10, 'no_of_episodes': 180}"
      ]
    },
    {
      "cell_type": "code",
      "execution_count": 28,
      "metadata": {
        "id": "taU7a9MBQaX8",
        "outputId": "187e7695-33b3-4bdf-8fe8-16d086392061",
        "colab": {
          "base_uri": "https://localhost:8080/"
        }
      },
      "outputs": [
        {
          "output_type": "execute_result",
          "data": {
            "text/plain": [
              "{'name': 'Seinfeld',\n",
              " 'creators': ['Larry David', 'Jerry Seinfeld'],\n",
              " 'genre': 'sitcom',\n",
              " 'no_of_seasons': 10,\n",
              " 'no_of_episodes': 180}"
            ]
          },
          "metadata": {},
          "execution_count": 28
        }
      ],
      "source": [
        "seinfeld"
      ]
    },
    {
      "cell_type": "markdown",
      "metadata": {
        "id": "sqoTIDOJQaX8"
      },
      "source": [
        "Now that we have two TV shows, we can envision having a list of TV shows."
      ]
    },
    {
      "cell_type": "code",
      "execution_count": 29,
      "metadata": {
        "id": "J2k_-zjfQaX8",
        "outputId": "ac032d8c-23a4-4fec-e74b-d18f9c316bc2",
        "colab": {
          "base_uri": "https://localhost:8080/"
        }
      },
      "outputs": [
        {
          "output_type": "execute_result",
          "data": {
            "text/plain": [
              "[{'name': 'Friends',\n",
              "  'genre': 'sitcom',\n",
              "  'no_of_seasons': 10,\n",
              "  'no_of_episodes': 236,\n",
              "  'creators': ['David Crane', 'Marta Kauffman']},\n",
              " {'name': 'Seinfeld',\n",
              "  'creators': ['Larry David', 'Jerry Seinfeld'],\n",
              "  'genre': 'sitcom',\n",
              "  'no_of_seasons': 10,\n",
              "  'no_of_episodes': 180}]"
            ]
          },
          "metadata": {},
          "execution_count": 29
        }
      ],
      "source": [
        "tv_shows = [friends, seinfeld]\n",
        "tv_shows"
      ]
    },
    {
      "cell_type": "markdown",
      "metadata": {
        "id": "M7bST06EQaX8"
      },
      "source": [
        "This is a nested data structure.  And it can be confusing to disentangle.  A good technique is to describe the data structure first before working with it.\n",
        "\n",
        "So `tv_shows` is a list, with each element of the list being a dictionary.  The dictionary has a key of `creators` which itself points to another list. In describing the data structure, we look to the braces and brackets at the beginning.  `[{` means we are starting a list with a dictionary as the first element.  \n",
        "\n",
        "Ok, now let's start working with this nested data structure.  First, let's select the second creator of Seinfeld and set it equal to the variable `jerry`.  We'll retrieve this data in steps.  First, we'll select the correct TV show."
      ]
    },
    {
      "cell_type": "code",
      "execution_count": 30,
      "metadata": {
        "id": "SoZSFEFEQaX8",
        "outputId": "2b8356ad-97cd-4f47-b012-66835df622bf",
        "colab": {
          "base_uri": "https://localhost:8080/"
        }
      },
      "outputs": [
        {
          "output_type": "execute_result",
          "data": {
            "text/plain": [
              "{'name': 'Seinfeld',\n",
              " 'creators': ['Larry David', 'Jerry Seinfeld'],\n",
              " 'genre': 'sitcom',\n",
              " 'no_of_seasons': 10,\n",
              " 'no_of_episodes': 180}"
            ]
          },
          "metadata": {},
          "execution_count": 30
        }
      ],
      "source": [
        "tv_shows[1]"
      ]
    },
    {
      "cell_type": "markdown",
      "metadata": {
        "id": "lU9-9HJRQaX9"
      },
      "source": [
        "Now we have the correct TV show.  Let's keep going."
      ]
    },
    {
      "cell_type": "code",
      "execution_count": 31,
      "metadata": {
        "id": "88alV7DVQaX9",
        "outputId": "28303729-2394-4cfe-c689-7fcbdc57c4eb",
        "colab": {
          "base_uri": "https://localhost:8080/"
        }
      },
      "outputs": [
        {
          "output_type": "execute_result",
          "data": {
            "text/plain": [
              "['Larry David', 'Jerry Seinfeld']"
            ]
          },
          "metadata": {},
          "execution_count": 31
        }
      ],
      "source": [
        "tv_shows[1]['creators']"
      ]
    },
    {
      "cell_type": "markdown",
      "metadata": {
        "id": "DwQYoSzPQaX9"
      },
      "source": [
        "Ok, almost there, we have our list of creators."
      ]
    },
    {
      "cell_type": "code",
      "execution_count": 32,
      "metadata": {
        "id": "_QaDa-XxQaX9",
        "outputId": "b77851f0-76a6-4ece-d563-ff0f672dc35c",
        "colab": {
          "base_uri": "https://localhost:8080/",
          "height": 35
        }
      },
      "outputs": [
        {
          "output_type": "execute_result",
          "data": {
            "text/plain": [
              "'Jerry Seinfeld'"
            ],
            "application/vnd.google.colaboratory.intrinsic+json": {
              "type": "string"
            }
          },
          "metadata": {},
          "execution_count": 32
        }
      ],
      "source": [
        "tv_shows[1]['creators'][1]"
      ]
    },
    {
      "cell_type": "markdown",
      "metadata": {
        "id": "c11Ph7SvQaX9"
      },
      "source": [
        "So as you see above, we are now selecting the correct creator from the list."
      ]
    },
    {
      "cell_type": "code",
      "execution_count": 33,
      "metadata": {
        "id": "sk5SEQAaQaX9",
        "outputId": "a55d2ce8-21f3-4358-8650-3adaea1d1873",
        "colab": {
          "base_uri": "https://localhost:8080/",
          "height": 35
        }
      },
      "outputs": [
        {
          "output_type": "execute_result",
          "data": {
            "text/plain": [
              "'Jerry Seinfeld'"
            ],
            "application/vnd.google.colaboratory.intrinsic+json": {
              "type": "string"
            }
          },
          "metadata": {},
          "execution_count": 33
        }
      ],
      "source": [
        "jerry = tv_shows[1]['creators'][1]\n",
        "jerry"
      ]
    },
    {
      "cell_type": "markdown",
      "metadata": {
        "id": "KF0wJAIWQaX9"
      },
      "source": [
        "Ok, so our approach here was to break this problem down into steps.  We first selected the correct TV show.  Then, we moved onto the `creators` attribute.  Finally, we retrieved the correct element from the list of creators.  \n",
        "\n",
        "> As programmers, we develop skills for finding new and innovative ways to make our problems easier to solve. Breaking down the problem in steps, and checking our work at each of these steps is a technique we should continue to lean on.  It's the mark of a skilled developer.\n",
        "\n",
        "## Summary\n",
        "\n",
        "In this section, we saw a new type of collection, the dictionary.  A dictionary is a collection of key-value pairs.  We mark the start and end of a dictionary with curly braces, `{}`, and then follow the pattern of `'key':'value'` for each of the associated attributes, with each attribute separated by a comma: `dictionary = {'key_1':'value_1', 'key_2':'value_2'}`.  \n",
        "\n",
        "We retrieve a specific value from a dictionary by using the bracket accessor in combination with the key, so `dictionary['key_2]'` returns `'value_2'`. We can also add a new attribute with the format `dictionary['key_3'] = 'value_3'`.\n",
        "\n",
        "Finally, we saw that we can represent data as nested data structures.  In working with nested data structures, a good technique is to pay attention to the edges of the data structure as in `[{`, and then articulate how that data structure is nested.  Finally, when accessing data from a nested data structure, it is useful to break down the problem into steps to get feedback along the way."
      ]
    }
  ],
  "metadata": {
    "kernelspec": {
      "display_name": "Python (learn-env)",
      "language": "python",
      "name": "learn-env"
    },
    "language_info": {
      "codemirror_mode": {
        "name": "ipython",
        "version": 3
      },
      "file_extension": ".py",
      "mimetype": "text/x-python",
      "name": "python",
      "nbconvert_exporter": "python",
      "pygments_lexer": "ipython3",
      "version": "3.8.5"
    },
    "colab": {
      "provenance": [],
      "name": "Working With Dictionaries.ipynb",
      "include_colab_link": true
    }
  },
  "nbformat": 4,
  "nbformat_minor": 0
}