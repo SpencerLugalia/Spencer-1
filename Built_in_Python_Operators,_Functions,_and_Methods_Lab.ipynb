{
  "cells": [
    {
      "cell_type": "markdown",
      "metadata": {
        "id": "view-in-github",
        "colab_type": "text"
      },
      "source": [
        "<a href=\"https://colab.research.google.com/github/SpencerLugalia/Spencer-1/blob/main/Built_in_Python_Operators%2C_Functions%2C_and_Methods_Lab.ipynb\" target=\"_parent\"><img src=\"https://colab.research.google.com/assets/colab-badge.svg\" alt=\"Open In Colab\"/></a>"
      ]
    },
    {
      "cell_type": "markdown",
      "metadata": {
        "id": "KRP99LRXStC6"
      },
      "source": [
        "# Built-in Python Operators, Functions, and Methods - Lab\n",
        "\n",
        "## Introduction\n",
        "We've looked at some of the built-in methods, functions, and the operators in Python. These are all very powerful tools we can (and will) use in our code. Below, we'll put these new tools to use to solve the tests in this lab.\n",
        "\n",
        "## Objectives\n",
        "\n",
        "In this lab you will:\n",
        "\n",
        "* Use built-in Python functions and methods\n",
        "* Use comparison operators to compare objects\n",
        "* Use logical operators to incorporate multiple conditions\n",
        "* Use identity operators to confirm the identity of an object\n",
        "\n",
        "\n",
        "## Instructions\n",
        "\n",
        "Let's start by using some built-in functions and methods. Employ the appropriate functions and methods to get the intended result."
      ]
    },
    {
      "cell_type": "code",
      "execution_count": 1,
      "metadata": {
        "id": "0CRSFKFMStC8",
        "colab": {
          "base_uri": "https://localhost:8080/",
          "height": 35
        },
        "outputId": "1d1c872b-605a-4446-ae17-5d6ce083d14c"
      },
      "outputs": [
        {
          "output_type": "execute_result",
          "data": {
            "text/plain": [
              "'hello, there'"
            ],
            "application/vnd.google.colaboratory.intrinsic+json": {
              "type": "string"
            }
          },
          "metadata": {},
          "execution_count": 1
        }
      ],
      "source": [
        "# Desired output: \"HELLO, THERE\"\n",
        "yell_hello = \"hello, there\"\n",
        "yell_hello"
      ]
    },
    {
      "cell_type": "code",
      "source": [
        "yell_hello.upper()"
      ],
      "metadata": {
        "colab": {
          "base_uri": "https://localhost:8080/",
          "height": 35
        },
        "id": "_XyzAZYPQcDP",
        "outputId": "11747d7f-47f0-474b-f78a-7f7dbdd19023"
      },
      "execution_count": 3,
      "outputs": [
        {
          "output_type": "execute_result",
          "data": {
            "text/plain": [
              "'HELLO, THERE'"
            ],
            "application/vnd.google.colaboratory.intrinsic+json": {
              "type": "string"
            }
          },
          "metadata": {},
          "execution_count": 3
        }
      ]
    },
    {
      "cell_type": "code",
      "execution_count": 4,
      "metadata": {
        "id": "ZbfPehynStC9",
        "colab": {
          "base_uri": "https://localhost:8080/",
          "height": 35
        },
        "outputId": "2d2d1b71-ccb3-4b88-f6c1-f1998e8c1803"
      },
      "outputs": [
        {
          "output_type": "execute_result",
          "data": {
            "text/plain": [
              "'PSST, HEY'"
            ],
            "application/vnd.google.colaboratory.intrinsic+json": {
              "type": "string"
            }
          },
          "metadata": {},
          "execution_count": 4
        }
      ],
      "source": [
        "# Desired output: \"psst, hey\"\n",
        "whisper_hey = \"PSST, HEY\"\n",
        "whisper_hey"
      ]
    },
    {
      "cell_type": "code",
      "source": [
        "whisper_hey.lower()"
      ],
      "metadata": {
        "colab": {
          "base_uri": "https://localhost:8080/",
          "height": 35
        },
        "id": "6X_zszW2Qsqf",
        "outputId": "daa612be-6511-4ce7-8464-31d2c9a2f33e"
      },
      "execution_count": 6,
      "outputs": [
        {
          "output_type": "execute_result",
          "data": {
            "text/plain": [
              "'psst, hey'"
            ],
            "application/vnd.google.colaboratory.intrinsic+json": {
              "type": "string"
            }
          },
          "metadata": {},
          "execution_count": 6
        }
      ]
    },
    {
      "cell_type": "code",
      "execution_count": 7,
      "metadata": {
        "id": "JALXCFDXStC9",
        "colab": {
          "base_uri": "https://localhost:8080/",
          "height": 35
        },
        "outputId": "1c476d2c-8d00-4e32-a937-67ee70a7043e"
      },
      "outputs": [
        {
          "output_type": "execute_result",
          "data": {
            "text/plain": [
              "'LEARN. LOVE. CODE.'"
            ],
            "application/vnd.google.colaboratory.intrinsic+json": {
              "type": "string"
            }
          },
          "metadata": {},
          "execution_count": 7
        }
      ],
      "source": [
        "# Desired output: \"Learn. Love. Code\"\n",
        "flatiron_mantra = \"LEARN. LOVE. CODE.\"\n",
        "flatiron_mantra"
      ]
    },
    {
      "cell_type": "code",
      "source": [
        "flatiron_mantra.title()"
      ],
      "metadata": {
        "colab": {
          "base_uri": "https://localhost:8080/",
          "height": 35
        },
        "id": "7_c4J5TyQ4Je",
        "outputId": "1654436d-b8c7-480d-fefc-8bfc1ba0a3b7"
      },
      "execution_count": 8,
      "outputs": [
        {
          "output_type": "execute_result",
          "data": {
            "text/plain": [
              "'Learn. Love. Code.'"
            ],
            "application/vnd.google.colaboratory.intrinsic+json": {
              "type": "string"
            }
          },
          "metadata": {},
          "execution_count": 8
        }
      ]
    },
    {
      "cell_type": "code",
      "execution_count": 9,
      "metadata": {
        "id": "SZn2nfvPStC9",
        "colab": {
          "base_uri": "https://localhost:8080/",
          "height": 35
        },
        "outputId": "d97e0f55-9169-43c5-8c37-0750b42fd615"
      },
      "outputs": [
        {
          "output_type": "execute_result",
          "data": {
            "text/plain": [
              "\"i'm a string\""
            ],
            "application/vnd.google.colaboratory.intrinsic+json": {
              "type": "string"
            }
          },
          "metadata": {},
          "execution_count": 9
        }
      ],
      "source": [
        "# Desired output: str\n",
        "type_string = \"i'm a string\"\n",
        "type_string"
      ]
    },
    {
      "cell_type": "code",
      "source": [
        "type(type_string)"
      ],
      "metadata": {
        "colab": {
          "base_uri": "https://localhost:8080/"
        },
        "id": "exvwYfSXRARf",
        "outputId": "3559663c-1c5d-41ac-97c7-98155f488117"
      },
      "execution_count": 10,
      "outputs": [
        {
          "output_type": "execute_result",
          "data": {
            "text/plain": [
              "str"
            ]
          },
          "metadata": {},
          "execution_count": 10
        }
      ]
    },
    {
      "cell_type": "code",
      "execution_count": 11,
      "metadata": {
        "id": "SaAhnk_tStC9",
        "colab": {
          "base_uri": "https://localhost:8080/"
        },
        "outputId": "7d467af8-44a7-461b-8c55-016e7d63faec"
      },
      "outputs": [
        {
          "output_type": "execute_result",
          "data": {
            "text/plain": [
              "[\"i'm\", 'a', 'list']"
            ]
          },
          "metadata": {},
          "execution_count": 11
        }
      ],
      "source": [
        "# Desired output: list\n",
        "type_list = [\"i'm\", \"a\", \"list\"]\n",
        "type_list"
      ]
    },
    {
      "cell_type": "code",
      "source": [
        "type(type_list)"
      ],
      "metadata": {
        "colab": {
          "base_uri": "https://localhost:8080/"
        },
        "id": "q7UpHU6URS8L",
        "outputId": "8478ece1-53b8-4b16-b198-4091312b2529"
      },
      "execution_count": 12,
      "outputs": [
        {
          "output_type": "execute_result",
          "data": {
            "text/plain": [
              "list"
            ]
          },
          "metadata": {},
          "execution_count": 12
        }
      ]
    },
    {
      "cell_type": "code",
      "execution_count": 13,
      "metadata": {
        "id": "EcXEBHkXStC9",
        "colab": {
          "base_uri": "https://localhost:8080/"
        },
        "outputId": "fa62e81e-01ef-4c05-985f-da5efc21bb00"
      },
      "outputs": [
        {
          "output_type": "execute_result",
          "data": {
            "text/plain": [
              "[\"i'm\", 'a', 'list']"
            ]
          },
          "metadata": {},
          "execution_count": 13
        }
      ],
      "source": [
        "# Desired output: 3\n",
        "length_of_list = [\"i'm\", \"a\", \"list\"]\n",
        "length_of_list"
      ]
    },
    {
      "cell_type": "code",
      "source": [
        "len(length_of_list)"
      ],
      "metadata": {
        "colab": {
          "base_uri": "https://localhost:8080/"
        },
        "id": "ZhkRyfgjRX1n",
        "outputId": "d1403e3f-ae2a-4225-ec25-8f721b5a0468"
      },
      "execution_count": 14,
      "outputs": [
        {
          "output_type": "execute_result",
          "data": {
            "text/plain": [
              "3"
            ]
          },
          "metadata": {},
          "execution_count": 14
        }
      ]
    },
    {
      "cell_type": "code",
      "execution_count": 15,
      "metadata": {
        "id": "wqo5yh5RStC-",
        "colab": {
          "base_uri": "https://localhost:8080/"
        },
        "outputId": "ec6cb0af-3981-45f0-ada2-7e34acfc5d62"
      },
      "outputs": [
        {
          "output_type": "execute_result",
          "data": {
            "text/plain": [
              "[\"i'm\", 'a', 'list']"
            ]
          },
          "metadata": {},
          "execution_count": 15
        }
      ],
      "source": [
        "# Desired output: \"list\"\n",
        "longest_word_in_list = [\"i'm\", \"a\", \"list\"]\n",
        "longest_word_in_list"
      ]
    },
    {
      "cell_type": "code",
      "source": [
        "max(longest_word_in_list)"
      ],
      "metadata": {
        "colab": {
          "base_uri": "https://localhost:8080/",
          "height": 35
        },
        "id": "dZVqDQGCRl7u",
        "outputId": "fcb9bfbf-04c4-4911-b840-17b380aac59d"
      },
      "execution_count": 16,
      "outputs": [
        {
          "output_type": "execute_result",
          "data": {
            "text/plain": [
              "'list'"
            ],
            "application/vnd.google.colaboratory.intrinsic+json": {
              "type": "string"
            }
          },
          "metadata": {},
          "execution_count": 16
        }
      ]
    },
    {
      "cell_type": "code",
      "execution_count": 17,
      "metadata": {
        "id": "s4Z0FSt_StC-",
        "colab": {
          "base_uri": "https://localhost:8080/"
        },
        "outputId": "a36f12ea-f586-453f-ad09-76639f188e24"
      },
      "outputs": [
        {
          "output_type": "execute_result",
          "data": {
            "text/plain": [
              "[1, 3, 4, 78]"
            ]
          },
          "metadata": {},
          "execution_count": 17
        }
      ],
      "source": [
        "# Desired output: 1\n",
        "smallest_number = [1, 3, 4, 78]\n",
        "smallest_number"
      ]
    },
    {
      "cell_type": "code",
      "source": [
        "min(smallest_number)"
      ],
      "metadata": {
        "colab": {
          "base_uri": "https://localhost:8080/"
        },
        "id": "zgkvoORnRsPZ",
        "outputId": "562d6734-fc0d-4150-acfe-b615d44cf332"
      },
      "execution_count": 18,
      "outputs": [
        {
          "output_type": "execute_result",
          "data": {
            "text/plain": [
              "1"
            ]
          },
          "metadata": {},
          "execution_count": 18
        }
      ]
    },
    {
      "cell_type": "code",
      "execution_count": 19,
      "metadata": {
        "id": "lLS8g5y1StC-",
        "colab": {
          "base_uri": "https://localhost:8080/"
        },
        "outputId": "7911e5e8-a487-4732-b20f-10ddd22caae0"
      },
      "outputs": [
        {
          "output_type": "execute_result",
          "data": {
            "text/plain": [
              "[1, 2, 3, 5]"
            ]
          },
          "metadata": {},
          "execution_count": 19
        }
      ],
      "source": [
        "# Desired output: 11\n",
        "sum_of_numbers = [1, 2, 3, 5]\n",
        "sum_of_numbers"
      ]
    },
    {
      "cell_type": "code",
      "source": [
        "sum(sum_of_numbers)"
      ],
      "metadata": {
        "colab": {
          "base_uri": "https://localhost:8080/"
        },
        "id": "0_J38DygRzOt",
        "outputId": "205e316a-dfc5-4c2a-c952-44532e310db9"
      },
      "execution_count": 20,
      "outputs": [
        {
          "output_type": "execute_result",
          "data": {
            "text/plain": [
              "11"
            ]
          },
          "metadata": {},
          "execution_count": 20
        }
      ]
    },
    {
      "cell_type": "markdown",
      "metadata": {
        "id": "3rDaNml4StC-"
      },
      "source": [
        "Uncomment the code in each cell as you start working on them. For example, when you begin working on the first cell, remove `#` at the start of each line.  \n",
        "\n",
        "> **Note:** The `cmd+?` keyboard shortcut comments or uncomments a given line of code!\n",
        "\n",
        "Replace `[COMPARISON]`, with the correct comparison operator to get the desired output, which you will find as a comment at the end of each line. See the example below.\n",
        "\n",
        "```python\n",
        "# boolean_compare = False [COMPARISON] True # True\n",
        "=> boolean_compare = False != True # True\n",
        "OR\n",
        "=> boolean_compare = False != True\n",
        "```\n",
        "\n",
        "Once uncommented, you can check the output to see if your comparisons match the answers provided in the ending comments."
      ]
    },
    {
      "cell_type": "markdown",
      "metadata": {
        "id": "_ughuviiStC-"
      },
      "source": [
        "> **Remember** the comparison operators are: `==`, `!=`, `<`, `>`, `<=`, `>=`"
      ]
    },
    {
      "cell_type": "code",
      "execution_count": 31,
      "metadata": {
        "id": "A2jzgC8ZStC_",
        "colab": {
          "base_uri": "https://localhost:8080/"
        },
        "outputId": "7a6d7c2a-658d-4511-cec4-1b59afeffb5c"
      },
      "outputs": [
        {
          "output_type": "stream",
          "name": "stdout",
          "text": [
            "False False\n"
          ]
        }
      ],
      "source": [
        "boolean_compare= True!=True # False\n",
        "boolean_compare2 = False == True # False\n",
        "print(boolean_compare, boolean_compare2)\n"
      ]
    },
    {
      "cell_type": "code",
      "execution_count": 30,
      "metadata": {
        "id": "hwC08HwvStC_",
        "colab": {
          "base_uri": "https://localhost:8080/"
        },
        "outputId": "230200cc-2586-4b8e-e5c4-e3f65df943f8"
      },
      "outputs": [
        {
          "output_type": "stream",
          "name": "stdout",
          "text": [
            "True True False\n"
          ]
        }
      ],
      "source": [
        "number_compare = 10 == 10 # True\n",
        "number_compare2 = -20 < 30 # True\n",
        "number_compare3 = 4 > 5 # False\n",
        "print(number_compare, number_compare2, number_compare3)"
      ]
    },
    {
      "cell_type": "code",
      "execution_count": 32,
      "metadata": {
        "id": "pdq69FTqStC_",
        "colab": {
          "base_uri": "https://localhost:8080/"
        },
        "outputId": "4d4d0c7c-005c-43d5-9d30-f3430cbf5485"
      },
      "outputs": [
        {
          "output_type": "stream",
          "name": "stdout",
          "text": [
            "True False True\n"
          ]
        }
      ],
      "source": [
        "string_compare = \"stacy\"!=\"STACY\" # True\n",
        "string_compare2 = \"hey i love python!\" ==\"hi love python\" # False\n",
        "string_compare3 = \"this string is bigger than the other\" !=\"that is true\" # True\n",
        "print(string_compare, string_compare2, string_compare3)"
      ]
    },
    {
      "cell_type": "markdown",
      "metadata": {
        "id": "pHPDiaBSStC_"
      },
      "source": [
        "In the next section, do not use either `==` or `!=` operators"
      ]
    },
    {
      "cell_type": "code",
      "execution_count": 33,
      "metadata": {
        "scrolled": true,
        "id": "XDAdJWPzStC_",
        "colab": {
          "base_uri": "https://localhost:8080/"
        },
        "outputId": "e6c9653b-2689-4a4d-8a3d-ae28b9dda684"
      },
      "outputs": [
        {
          "output_type": "stream",
          "name": "stdout",
          "text": [
            "True True False True False\n"
          ]
        }
      ],
      "source": [
        "list_compare = [0, 0, 0, 0]!=[0, 0, 0] # True\n",
        "list_compare2 = [1, 0, 0] != [0, 0, 0] # True\n",
        "list_compare3 = [0, 0, 0] ==[0, 0, 3] # False\n",
        "list_compare4 = [0, 0, 3, 0] != [0, 0, 3] # True\n",
        "list_compare5 = [0, 0, 4, 0] == [0, 0, 3] # False\n",
        "print(list_compare, list_compare2, list_compare3, list_compare4, list_compare5)"
      ]
    },
    {
      "cell_type": "markdown",
      "metadata": {
        "id": "H-a6A0GpStC_"
      },
      "source": [
        "### Practicing Identity and Logical Operators"
      ]
    },
    {
      "cell_type": "markdown",
      "metadata": {
        "id": "E-7yxMLYStC_"
      },
      "source": [
        "In this next section, use the identity and logical operators to get the desired output as you did in the examples above using the comparison operators."
      ]
    },
    {
      "cell_type": "markdown",
      "metadata": {
        "id": "Gf8Te1qJStC_"
      },
      "source": [
        "> **Remember** the **logical operators** are `and`, `or`, & `not`; and the **identity operators** are `is` & `is not`"
      ]
    },
    {
      "cell_type": "markdown",
      "metadata": {
        "id": "qqV-aOthStC_"
      },
      "source": [
        "Use logical operators for this section"
      ]
    },
    {
      "cell_type": "code",
      "execution_count": 57,
      "metadata": {
        "id": "CTN4utLsStC_",
        "colab": {
          "base_uri": "https://localhost:8080/"
        },
        "outputId": "8153e1fd-3233-47fa-ac34-c100af250033"
      },
      "outputs": [
        {
          "output_type": "stream",
          "name": "stdout",
          "text": [
            "[] True 0 2 2 False False\n"
          ]
        }
      ],
      "source": [
        "logical_compare = 2 and [] # []\n",
        "logical_compare2 = not [] # True\n",
        "logical_compare3 = 0 and [] # 0\n",
        "logical_compare4 = True and 2 # 2\n",
        "logical_compare5 = 2 or 3 # 2\n",
        "logical_compare6 = not True # False\n",
        "logical_compare7 = False and 2 # False\n",
        "print(logical_compare, logical_compare2, logical_compare3, logical_compare4,\n",
        "      logical_compare5, logical_compare6, logical_compare7)"
      ]
    },
    {
      "cell_type": "markdown",
      "metadata": {
        "id": "s_SyolnCStDA"
      },
      "source": [
        "Use identity operators for this section"
      ]
    },
    {
      "cell_type": "code",
      "execution_count": 59,
      "metadata": {
        "id": "fKsvJvsDStDA",
        "colab": {
          "base_uri": "https://localhost:8080/"
        },
        "outputId": "f5953c1e-ad64-4f86-847d-7e51c34ac3e5"
      },
      "outputs": [
        {
          "output_type": "stream",
          "name": "stdout",
          "text": [
            "False True True True False False\n"
          ]
        },
        {
          "output_type": "stream",
          "name": "stderr",
          "text": [
            "<>:6: SyntaxWarning: \"is not\" with a literal. Did you mean \"!=\"?\n",
            "<>:7: SyntaxWarning: \"is not\" with a literal. Did you mean \"!=\"?\n",
            "<>:6: SyntaxWarning: \"is not\" with a literal. Did you mean \"!=\"?\n",
            "<>:7: SyntaxWarning: \"is not\" with a literal. Did you mean \"!=\"?\n",
            "<ipython-input-59-f507e4c01777>:6: SyntaxWarning: \"is not\" with a literal. Did you mean \"!=\"?\n",
            "  identity_compare4 = 9 is not 10 # True\n",
            "<ipython-input-59-f507e4c01777>:7: SyntaxWarning: \"is not\" with a literal. Did you mean \"!=\"?\n",
            "  identity_compare5 = \"Same\" is not\"Same\" # False\n"
          ]
        }
      ],
      "source": [
        "a = []\n",
        "b = a\n",
        "identity_compare = {} is {} # False\n",
        "identity_compare2 = a is b # True\n",
        "identity_compare3 = b is not [] # True\n",
        "identity_compare4 = 9 is not 10 # True\n",
        "identity_compare5 = \"Same\" is not\"Same\" # False\n",
        "identity_compare6 = [1,3,4] is [1,2,3] # False\n",
        "print(identity_compare, identity_compare2, identity_compare3,\n",
        "     identity_compare4, identity_compare5, identity_compare6)"
      ]
    },
    {
      "cell_type": "markdown",
      "metadata": {
        "id": "LB0jL1kOStDA"
      },
      "source": [
        "## Summary\n",
        "Great work! After all that, there's nothing we can't compare. Well, I guess apples and oranges might still be off the table. We practiced using comparison, logical, and identity operators in Python to compare elements of the same and different datatypes and/or values. Going forward, there will be plenty of instances where we will need to compare elements. So, it is important to have a good understanding of how each of these operators works. Don't worry, as with all concepts in programming, the more we work with something the better we understand it."
      ]
    }
  ],
  "metadata": {
    "kernelspec": {
      "display_name": "Python (learn-env)",
      "language": "python",
      "name": "learn-env"
    },
    "language_info": {
      "codemirror_mode": {
        "name": "ipython",
        "version": 3
      },
      "file_extension": ".py",
      "mimetype": "text/x-python",
      "name": "python",
      "nbconvert_exporter": "python",
      "pygments_lexer": "ipython3",
      "version": "3.8.5"
    },
    "toc": {
      "base_numbering": 1,
      "nav_menu": {},
      "number_sections": true,
      "sideBar": true,
      "skip_h1_title": false,
      "title_cell": "Table of Contents",
      "title_sidebar": "Contents",
      "toc_cell": false,
      "toc_position": {},
      "toc_section_display": true,
      "toc_window_display": false
    },
    "colab": {
      "provenance": [],
      "name": "Built-in Python Operators, Functions, and Methods - Lab.ipynb",
      "include_colab_link": true
    }
  },
  "nbformat": 4,
  "nbformat_minor": 0
}