{
  "cells": [
    {
      "cell_type": "markdown",
      "metadata": {
        "id": "view-in-github",
        "colab_type": "text"
      },
      "source": [
        "<a href=\"https://colab.research.google.com/github/SpencerLugalia/Spencer-1/blob/main/Working_with_Dictionaries_Lab.ipynb\" target=\"_parent\"><img src=\"https://colab.research.google.com/assets/colab-badge.svg\" alt=\"Open In Colab\"/></a>"
      ]
    },
    {
      "cell_type": "markdown",
      "metadata": {
        "id": "Pzzr6x5JRGOt"
      },
      "source": [
        "# Working with Dictionaries - Lab\n",
        "\n",
        "## Introduction\n",
        "Now that we know about dictionaries in Python, it is time to practice using them. In this lesson, you'll use your knowledge of dictionaries to retrieve and assign data about various cities.\n",
        "\n",
        "## Objectives\n",
        "\n",
        "You will be able to:\n",
        "\n",
        "* Assign values in a dictionary\n",
        "* Access keys and values in a dictionary\n",
        "\n",
        "## Instructions\n",
        "\n",
        "Here is a dictionary representing the city of Greenville, North Carolina.  The area is in kilometers squared."
      ]
    },
    {
      "cell_type": "code",
      "execution_count": 1,
      "metadata": {
        "id": "684EGdubRGOv"
      },
      "outputs": [],
      "source": [
        "greenville = {'Area': 68, 'City': 'Greenville', 'Country': 'USA', 'Population': 84554}"
      ]
    },
    {
      "cell_type": "markdown",
      "metadata": {
        "id": "dgfx_Rb3RGOw"
      },
      "source": [
        "> Remember to press shift + enter to run the code.\n",
        "\n",
        "Let's retrieve the population of the city and assign it to the variable `greenville_population`."
      ]
    },
    {
      "cell_type": "code",
      "execution_count": 2,
      "metadata": {
        "id": "OFhaIGq6RGOw",
        "colab": {
          "base_uri": "https://localhost:8080/"
        },
        "outputId": "597194c5-66d9-48e9-aaf2-db631f853cfa"
      },
      "outputs": [
        {
          "output_type": "execute_result",
          "data": {
            "text/plain": [
              "84554"
            ]
          },
          "metadata": {},
          "execution_count": 2
        }
      ],
      "source": [
        "greenville_population = greenville['Population'] # change None\n",
        "greenville_population # 84554"
      ]
    },
    {
      "cell_type": "markdown",
      "metadata": {
        "id": "88ZCv9xuRGOw"
      },
      "source": [
        "Now retrieve the area of Greenville and assign it to the variable `greenville_area`."
      ]
    },
    {
      "cell_type": "code",
      "execution_count": 4,
      "metadata": {
        "id": "zEiaJ4b2RGOw",
        "colab": {
          "base_uri": "https://localhost:8080/"
        },
        "outputId": "7bba653c-888f-4861-b2dc-6d1e9df6fa5d"
      },
      "outputs": [
        {
          "output_type": "execute_result",
          "data": {
            "text/plain": [
              "68"
            ]
          },
          "metadata": {},
          "execution_count": 4
        }
      ],
      "source": [
        "greenville_area = greenville['Area']\n",
        "greenville_area # 68"
      ]
    },
    {
      "cell_type": "markdown",
      "metadata": {
        "id": "GQMsZKScRGOx"
      },
      "source": [
        "Now let's take a look at all of the keys in the `greenville` dictionary and coerce them into a list.  Assign this variable to the list `city_keys`."
      ]
    },
    {
      "cell_type": "code",
      "execution_count": 5,
      "metadata": {
        "id": "4hNIhrfDRGOx",
        "colab": {
          "base_uri": "https://localhost:8080/"
        },
        "outputId": "7a5ba664-72e4-4498-e0c7-e784ed14bb9b"
      },
      "outputs": [
        {
          "output_type": "execute_result",
          "data": {
            "text/plain": [
              "dict_keys(['Area', 'City', 'Country', 'Population'])"
            ]
          },
          "metadata": {},
          "execution_count": 5
        }
      ],
      "source": [
        "city_keys = greenville.keys()\n",
        "city_keys # ['Area', 'City', 'Country', 'Population']"
      ]
    },
    {
      "cell_type": "markdown",
      "metadata": {
        "id": "Zv2eMgD-RGOx"
      },
      "source": [
        "Alright, next let's get all of the values in our greenville dictionary and coerce it into a list.  Assign that list to the variable `city_values`."
      ]
    },
    {
      "cell_type": "code",
      "execution_count": 6,
      "metadata": {
        "id": "CNn2TClsRGOx",
        "colab": {
          "base_uri": "https://localhost:8080/"
        },
        "outputId": "6694d5f2-f975-40ed-b0c7-f70869eb584f"
      },
      "outputs": [
        {
          "output_type": "execute_result",
          "data": {
            "text/plain": [
              "dict_values([68, 'Greenville', 'USA', 84554])"
            ]
          },
          "metadata": {},
          "execution_count": 6
        }
      ],
      "source": [
        "city_values = greenville.values()\n",
        "city_values # [68, 'Greenville', 'USA', 84554]"
      ]
    },
    {
      "cell_type": "markdown",
      "metadata": {
        "id": "59iI_V3XRGOx"
      },
      "source": [
        "## Working with multiple cities\n",
        "\n",
        "We can retrieve our data from an excel or Google sheet like the one [shown here](https://docs.google.com/spreadsheets/d/1BTJMMFH9t4p5UmHj5kiC6PGfMN6yaaaZkocx0mDqTK0/edit#gid=0) named Travel Cities and Countries.\n",
        "\n",
        "![](https://curriculum-content.s3.amazonaws.com/data-science/images/countries-cities.png)\n",
        "\n",
        "Luckily for us, we already have the spreadsheet downloaded and located in the current folder.  You can find the file (`cities.xlsx`) in this lesson's GitHub repository. Next, we will use a library called **Pandas** to get this data from the excel file into Python code. We already have the code for reading an excel file into Python written for us below. Let's check it out.\n",
        "\n",
        "> **Note:** To import a library or module in Python, we do so by writing `import` followed by the name of the thing we want to import. We can optionally include an *alias* for our import, which is done by writing **as** after the name of the thing we are importing followed by the name we would like to use for our *alias*. **Do not worry** about aliases right now. Just know that the *convention* for importing the Pandas library is to import it and alias it as `pd` like we see below.   \n",
        "We'll talk about packages and Pandas specifically in much more detail soon enough!"
      ]
    },
    {
      "cell_type": "code",
      "execution_count": 7,
      "metadata": {
        "id": "2YsZkp-NRGOx"
      },
      "outputs": [],
      "source": [
        "import pandas as pd\n",
        "file_name = './cities.xlsx'\n",
        "travel_df = pd.read_excel(file_name)\n",
        "cities = travel_df.to_dict('records')"
      ]
    },
    {
      "cell_type": "markdown",
      "metadata": {
        "id": "8nQq_hntRGOx"
      },
      "source": [
        "> Remember to press shift + enter.\n",
        "\n",
        "Great! We just used Pandas to read the data from our excel file and turn each row of data into a dictionary. Again, don't worry about exactly how Pandas is doing this, but know that Pandas is a great tool when trying to accomplish a task such as turning data from an excel file into data we can use in Python.\n",
        "\n",
        "Run the cell below to see what our data looks like now."
      ]
    },
    {
      "cell_type": "code",
      "execution_count": 11,
      "metadata": {
        "id": "MbSRcRXPRGOx",
        "outputId": "d43891e5-6a57-4a85-d35f-bc973d2a4f74",
        "colab": {
          "base_uri": "https://localhost:8080/"
        }
      },
      "outputs": [
        {
          "output_type": "execute_result",
          "data": {
            "text/plain": [
              "[{'City': 'Solta', 'Country': 'Croatia', 'Population': 1700, 'Area': 59},\n",
              " {'City': 'Greenville', 'Country': 'USA', 'Population': 84554, 'Area': 68},\n",
              " {'City': 'Buenos Aires',\n",
              "  'Country': 'Argentina',\n",
              "  'Population': 13591863,\n",
              "  'Area': 4758},\n",
              " {'City': 'Los Cabos',\n",
              "  'Country': 'Mexico',\n",
              "  'Population': 287651,\n",
              "  'Area': 3750},\n",
              " {'City': 'Walla Walla Valley',\n",
              "  'Country': 'USA',\n",
              "  'Population': 32237,\n",
              "  'Area': 33},\n",
              " {'City': 'Marakesh', 'Country': 'Morocco', 'Population': 928850, 'Area': 200},\n",
              " {'City': 'Albuquerque',\n",
              "  'Country': 'New Mexico',\n",
              "  'Population': 559277,\n",
              "  'Area': 491},\n",
              " {'City': 'Archipelago Sea',\n",
              "  'Country': 'Finland',\n",
              "  'Population': 60000,\n",
              "  'Area': 8300},\n",
              " {'City': 'Iguazu Falls',\n",
              "  'Country': 'Argentina',\n",
              "  'Population': 0,\n",
              "  'Area': 672},\n",
              " {'City': 'Salina Island', 'Country': 'Italy', 'Population': 4000, 'Area': 27},\n",
              " {'City': 'Toronto', 'Country': 'Canada', 'Population': 630, 'Area': 2731571},\n",
              " {'City': 'Pyeongchang',\n",
              "  'Country': 'South Korea',\n",
              "  'Population': 2581000,\n",
              "  'Area': 3194}]"
            ]
          },
          "metadata": {},
          "execution_count": 11
        }
      ],
      "source": [
        "cities"
      ]
    },
    {
      "cell_type": "markdown",
      "metadata": {
        "id": "HacOJMfZRGOy"
      },
      "source": [
        "Now we will work with reading and manipulating this list of dictionaries, `cities`.\n",
        "\n",
        "### Working with our list of cities\n",
        "\n",
        "First, access the third to last element and set it equal to the variable `salina`."
      ]
    },
    {
      "cell_type": "code",
      "execution_count": 12,
      "metadata": {
        "id": "mGciFxn7RGOy",
        "colab": {
          "base_uri": "https://localhost:8080/"
        },
        "outputId": "ddf1ea84-7a74-4531-d95a-0dd599ca2595"
      },
      "outputs": [
        {
          "output_type": "execute_result",
          "data": {
            "text/plain": [
              "{'City': 'Salina Island', 'Country': 'Italy', 'Population': 4000, 'Area': 27}"
            ]
          },
          "metadata": {},
          "execution_count": 12
        }
      ],
      "source": [
        "salina = cities[-3]\n",
        "salina\n",
        "# {'Area': 27, 'City': 'Salina Island', 'Country': 'Italy', 'Population': 4000}"
      ]
    },
    {
      "cell_type": "markdown",
      "metadata": {
        "id": "-cAbW8LvRGOy"
      },
      "source": [
        "Now access the fourth city in the list, and set its population equal to a variable called `los_cabos_pop`."
      ]
    },
    {
      "cell_type": "code",
      "execution_count": 19,
      "metadata": {
        "id": "uO0mWD1GRGOy",
        "colab": {
          "base_uri": "https://localhost:8080/"
        },
        "outputId": "41efc412-6aa5-41a7-9f09-a020a4fdf873"
      },
      "outputs": [
        {
          "output_type": "execute_result",
          "data": {
            "text/plain": [
              "287651"
            ]
          },
          "metadata": {},
          "execution_count": 19
        }
      ],
      "source": [
        "los_cabos_pop = cities [3] ['Population']\n",
        "los_cabos_pop # 287651"
      ]
    },
    {
      "cell_type": "markdown",
      "metadata": {
        "id": "6-jD5wUURGOy"
      },
      "source": [
        "Now calculate the number of cities in the list and assign the number to the variable `city_count`."
      ]
    },
    {
      "cell_type": "code",
      "execution_count": 22,
      "metadata": {
        "scrolled": true,
        "id": "y3eAO7f2RGOy",
        "colab": {
          "base_uri": "https://localhost:8080/"
        },
        "outputId": "114f2de5-22fc-4aba-ffe2-c2bd59e6806b"
      },
      "outputs": [
        {
          "output_type": "execute_result",
          "data": {
            "text/plain": [
              "12"
            ]
          },
          "metadata": {},
          "execution_count": 22
        }
      ],
      "source": [
        "city_count = len(cities)\n",
        "city_count # 12"
      ]
    },
    {
      "cell_type": "markdown",
      "metadata": {
        "id": "jLqAQxlQRGOz"
      },
      "source": [
        "Finally, change the spelling of the South Korean city, Pyeongchang, to the string `'PyeongChang'`, its alternative spelling."
      ]
    },
    {
      "cell_type": "code",
      "execution_count": 23,
      "metadata": {
        "id": "B7PvdkrhRGOz",
        "colab": {
          "base_uri": "https://localhost:8080/",
          "height": 35
        },
        "outputId": "2a2c340e-71bb-4e8d-cca6-40fdc508253e"
      },
      "outputs": [
        {
          "output_type": "execute_result",
          "data": {
            "text/plain": [
              "'PyeongChang'"
            ],
            "application/vnd.google.colaboratory.intrinsic+json": {
              "type": "string"
            }
          },
          "metadata": {},
          "execution_count": 23
        }
      ],
      "source": [
        "cities[11]['City'] = \"PyeongChang\"\n",
        "cities[11]['City'] # 'PyeongChang'"
      ]
    },
    {
      "cell_type": "markdown",
      "metadata": {
        "id": "HWcmj4vARGOz"
      },
      "source": [
        "Now let's work on retrieving a collection of information about a dictionary.  Use the appropriate dictionary method to return a list of values in the dictionary regarding Pyeongchang.  Assign the list to the variable `pyeongchang_values`."
      ]
    },
    {
      "cell_type": "code",
      "execution_count": 27,
      "metadata": {
        "id": "dNf-iFHHRGOz",
        "colab": {
          "base_uri": "https://localhost:8080/"
        },
        "outputId": "a8a8e33e-3442-4b0d-e2f5-5cf52036cc46"
      },
      "outputs": [
        {
          "output_type": "execute_result",
          "data": {
            "text/plain": [
              "list"
            ]
          },
          "metadata": {},
          "execution_count": 27
        }
      ],
      "source": [
        "pyeongchang_values = list(cities[-1].values())\n",
        "\n",
        "pyeongchang_values # ['PyeongChang', 'South Korea', 2581000, 3194]\n",
        "type(pyeongchang_values) # list"
      ]
    },
    {
      "cell_type": "code",
      "source": [
        "pyeongchang_values"
      ],
      "metadata": {
        "colab": {
          "base_uri": "https://localhost:8080/"
        },
        "id": "P6_cIm8e71xt",
        "outputId": "e4f08651-ed02-4e12-c1db-9226442792fe"
      },
      "execution_count": 28,
      "outputs": [
        {
          "output_type": "execute_result",
          "data": {
            "text/plain": [
              "['PyeongChang', 'South Korea', 2581000, 3194]"
            ]
          },
          "metadata": {},
          "execution_count": 28
        }
      ]
    },
    {
      "cell_type": "markdown",
      "metadata": {
        "id": "mejsGl62RGOz"
      },
      "source": [
        "And now set `pyeongchang_keys` equal to a list of keys in the dictionary regarding Pyeongchang."
      ]
    },
    {
      "cell_type": "code",
      "execution_count": 30,
      "metadata": {
        "id": "zriocu3kRGOz",
        "colab": {
          "base_uri": "https://localhost:8080/"
        },
        "outputId": "9afd4b96-0257-4cb3-b6aa-4b7acfc953e4"
      },
      "outputs": [
        {
          "output_type": "execute_result",
          "data": {
            "text/plain": [
              "list"
            ]
          },
          "metadata": {},
          "execution_count": 30
        }
      ],
      "source": [
        "pyeongchang_keys = list(cities[-1].keys())\n",
        "\n",
        "pyeongchang_keys # ['City', 'Country', 'Population', 'Area']\n",
        "type(pyeongchang_keys) # list"
      ]
    },
    {
      "cell_type": "code",
      "source": [
        "pyeongchang_keys"
      ],
      "metadata": {
        "colab": {
          "base_uri": "https://localhost:8080/"
        },
        "id": "8FnPb2X18Gep",
        "outputId": "272534a2-3e81-44b5-92d8-696fd06a5801"
      },
      "execution_count": 31,
      "outputs": [
        {
          "output_type": "execute_result",
          "data": {
            "text/plain": [
              "['City', 'Country', 'Population', 'Area']"
            ]
          },
          "metadata": {},
          "execution_count": 31
        }
      ]
    },
    {
      "cell_type": "markdown",
      "metadata": {
        "id": "zvQpx1m8RGOz"
      },
      "source": [
        "## Summary\n",
        "\n",
        "In this section, we saw how to assign, retrieve, and re-assign data in a dictionary.  We saw how we can retrieve a collection of information from a dictionary, like a list of its keys and values, and we saw how we can work with a list of dictionaries."
      ]
    }
  ],
  "metadata": {
    "kernelspec": {
      "display_name": "Python (learn-env)",
      "language": "python",
      "name": "learn-env"
    },
    "language_info": {
      "codemirror_mode": {
        "name": "ipython",
        "version": 3
      },
      "file_extension": ".py",
      "mimetype": "text/x-python",
      "name": "python",
      "nbconvert_exporter": "python",
      "pygments_lexer": "ipython3",
      "version": "3.8.5"
    },
    "colab": {
      "provenance": [],
      "name": "Working with Dictionaries - Lab.ipynb",
      "include_colab_link": true
    }
  },
  "nbformat": 4,
  "nbformat_minor": 0
}